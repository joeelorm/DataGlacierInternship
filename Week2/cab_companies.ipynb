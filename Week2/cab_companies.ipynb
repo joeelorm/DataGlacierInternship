{
 "cells": [
  {
   "cell_type": "code",
   "execution_count": 1,
   "metadata": {},
   "outputs": [],
   "source": [
    "#Importing libraries\n",
    "import numpy as np\n",
    "import pandas as pd\n",
    "import matplotlib.pyplot as plt\n",
    "import seaborn as sns"
   ]
  },
  {
   "cell_type": "code",
   "execution_count": 2,
   "metadata": {},
   "outputs": [],
   "source": [
    "#loading the datasets\n",
    "cab_data = pd.read_csv('data/Cab_Data.csv')\n",
    "customer_id = pd.read_csv('data/Customer_ID.csv')\n",
    "transaction_id = pd.read_csv('data/Transaction_ID.csv')\n",
    "city = pd.read_csv('data/City.csv')"
   ]
  },
  {
   "cell_type": "markdown",
   "metadata": {},
   "source": [
    "#### Getting a preliminary feel of the data"
   ]
  },
  {
   "cell_type": "code",
   "execution_count": 3,
   "metadata": {},
   "outputs": [
    {
     "data": {
      "text/html": [
       "<div>\n",
       "<style scoped>\n",
       "    .dataframe tbody tr th:only-of-type {\n",
       "        vertical-align: middle;\n",
       "    }\n",
       "\n",
       "    .dataframe tbody tr th {\n",
       "        vertical-align: top;\n",
       "    }\n",
       "\n",
       "    .dataframe thead th {\n",
       "        text-align: right;\n",
       "    }\n",
       "</style>\n",
       "<table border=\"1\" class=\"dataframe\">\n",
       "  <thead>\n",
       "    <tr style=\"text-align: right;\">\n",
       "      <th></th>\n",
       "      <th>Transaction ID</th>\n",
       "      <th>Date of Travel</th>\n",
       "      <th>Company</th>\n",
       "      <th>City</th>\n",
       "      <th>KM Travelled</th>\n",
       "      <th>Price Charged</th>\n",
       "      <th>Cost of Trip</th>\n",
       "    </tr>\n",
       "  </thead>\n",
       "  <tbody>\n",
       "    <tr>\n",
       "      <th>0</th>\n",
       "      <td>10000011</td>\n",
       "      <td>42377.0</td>\n",
       "      <td>Pink Cab</td>\n",
       "      <td>ATLANTA GA</td>\n",
       "      <td>30.45</td>\n",
       "      <td>370.95</td>\n",
       "      <td>313.635</td>\n",
       "    </tr>\n",
       "    <tr>\n",
       "      <th>1</th>\n",
       "      <td>10000012</td>\n",
       "      <td>42375.0</td>\n",
       "      <td>Pink Cab</td>\n",
       "      <td>ATLANTA GA</td>\n",
       "      <td>28.62</td>\n",
       "      <td>358.52</td>\n",
       "      <td>334.854</td>\n",
       "    </tr>\n",
       "    <tr>\n",
       "      <th>2</th>\n",
       "      <td>10000013</td>\n",
       "      <td>42371.0</td>\n",
       "      <td>Pink Cab</td>\n",
       "      <td>ATLANTA GA</td>\n",
       "      <td>9.04</td>\n",
       "      <td>125.20</td>\n",
       "      <td>97.632</td>\n",
       "    </tr>\n",
       "    <tr>\n",
       "      <th>3</th>\n",
       "      <td>10000014</td>\n",
       "      <td>42376.0</td>\n",
       "      <td>Pink Cab</td>\n",
       "      <td>ATLANTA GA</td>\n",
       "      <td>33.17</td>\n",
       "      <td>377.40</td>\n",
       "      <td>351.602</td>\n",
       "    </tr>\n",
       "    <tr>\n",
       "      <th>4</th>\n",
       "      <td>10000015</td>\n",
       "      <td>42372.0</td>\n",
       "      <td>Pink Cab</td>\n",
       "      <td>ATLANTA GA</td>\n",
       "      <td>8.73</td>\n",
       "      <td>114.62</td>\n",
       "      <td>97.776</td>\n",
       "    </tr>\n",
       "  </tbody>\n",
       "</table>\n",
       "</div>"
      ],
      "text/plain": [
       "   Transaction ID  Date of Travel   Company        City  KM Travelled  \\\n",
       "0        10000011         42377.0  Pink Cab  ATLANTA GA         30.45   \n",
       "1        10000012         42375.0  Pink Cab  ATLANTA GA         28.62   \n",
       "2        10000013         42371.0  Pink Cab  ATLANTA GA          9.04   \n",
       "3        10000014         42376.0  Pink Cab  ATLANTA GA         33.17   \n",
       "4        10000015         42372.0  Pink Cab  ATLANTA GA          8.73   \n",
       "\n",
       "   Price Charged  Cost of Trip  \n",
       "0         370.95       313.635  \n",
       "1         358.52       334.854  \n",
       "2         125.20        97.632  \n",
       "3         377.40       351.602  \n",
       "4         114.62        97.776  "
      ]
     },
     "execution_count": 3,
     "metadata": {},
     "output_type": "execute_result"
    }
   ],
   "source": [
    "#Looking at the first few rows of the cab data\n",
    "cab_data.head()"
   ]
  },
  {
   "cell_type": "code",
   "execution_count": 4,
   "metadata": {},
   "outputs": [
    {
     "name": "stdout",
     "output_type": "stream",
     "text": [
      "<class 'pandas.core.frame.DataFrame'>\n",
      "RangeIndex: 359392 entries, 0 to 359391\n",
      "Data columns (total 7 columns):\n",
      " #   Column          Non-Null Count   Dtype  \n",
      "---  ------          --------------   -----  \n",
      " 0   Transaction ID  359392 non-null  int64  \n",
      " 1   Date of Travel  359392 non-null  float64\n",
      " 2   Company         359392 non-null  object \n",
      " 3   City            359392 non-null  object \n",
      " 4   KM Travelled    359392 non-null  float64\n",
      " 5   Price Charged   359392 non-null  float64\n",
      " 6   Cost of Trip    359392 non-null  float64\n",
      "dtypes: float64(4), int64(1), object(2)\n",
      "memory usage: 19.2+ MB\n"
     ]
    }
   ],
   "source": [
    "#Information on the cab data.\n",
    "cab_data.info()"
   ]
  },
  {
   "cell_type": "code",
   "execution_count": 5,
   "metadata": {},
   "outputs": [
    {
     "name": "stdout",
     "output_type": "stream",
     "text": [
      "Number of unique cab companies present: 2\n"
     ]
    }
   ],
   "source": [
    "print('Number of unique cab companies present:', cab_data['Company'].nunique())"
   ]
  },
  {
   "cell_type": "code",
   "execution_count": 6,
   "metadata": {},
   "outputs": [
    {
     "name": "stdout",
     "output_type": "stream",
     "text": [
      "The number of different cities where these cab companies operate: 19\n"
     ]
    }
   ],
   "source": [
    "print('The number of different cities where these cab companies operate:', cab_data['City'].nunique())"
   ]
  },
  {
   "cell_type": "code",
   "execution_count": 7,
   "metadata": {},
   "outputs": [
    {
     "name": "stdout",
     "output_type": "stream",
     "text": [
      "The name of the cab companies are as follows: ['Pink Cab' 'Yellow Cab']\n"
     ]
    }
   ],
   "source": [
    "print('The name of the cab companies are as follows:', cab_data['Company'].unique())"
   ]
  },
  {
   "cell_type": "code",
   "execution_count": 8,
   "metadata": {},
   "outputs": [
    {
     "data": {
      "text/html": [
       "<div>\n",
       "<style scoped>\n",
       "    .dataframe tbody tr th:only-of-type {\n",
       "        vertical-align: middle;\n",
       "    }\n",
       "\n",
       "    .dataframe tbody tr th {\n",
       "        vertical-align: top;\n",
       "    }\n",
       "\n",
       "    .dataframe thead th {\n",
       "        text-align: right;\n",
       "    }\n",
       "</style>\n",
       "<table border=\"1\" class=\"dataframe\">\n",
       "  <thead>\n",
       "    <tr style=\"text-align: right;\">\n",
       "      <th></th>\n",
       "      <th>Customer ID</th>\n",
       "      <th>Gender</th>\n",
       "      <th>Age</th>\n",
       "      <th>Income (USD/Month)</th>\n",
       "    </tr>\n",
       "  </thead>\n",
       "  <tbody>\n",
       "    <tr>\n",
       "      <th>0</th>\n",
       "      <td>29290</td>\n",
       "      <td>Male</td>\n",
       "      <td>28</td>\n",
       "      <td>10813</td>\n",
       "    </tr>\n",
       "    <tr>\n",
       "      <th>1</th>\n",
       "      <td>27703</td>\n",
       "      <td>Male</td>\n",
       "      <td>27</td>\n",
       "      <td>9237</td>\n",
       "    </tr>\n",
       "    <tr>\n",
       "      <th>2</th>\n",
       "      <td>28712</td>\n",
       "      <td>Male</td>\n",
       "      <td>53</td>\n",
       "      <td>11242</td>\n",
       "    </tr>\n",
       "    <tr>\n",
       "      <th>3</th>\n",
       "      <td>28020</td>\n",
       "      <td>Male</td>\n",
       "      <td>23</td>\n",
       "      <td>23327</td>\n",
       "    </tr>\n",
       "    <tr>\n",
       "      <th>4</th>\n",
       "      <td>27182</td>\n",
       "      <td>Male</td>\n",
       "      <td>33</td>\n",
       "      <td>8536</td>\n",
       "    </tr>\n",
       "  </tbody>\n",
       "</table>\n",
       "</div>"
      ],
      "text/plain": [
       "   Customer ID Gender  Age  Income (USD/Month)\n",
       "0        29290   Male   28               10813\n",
       "1        27703   Male   27                9237\n",
       "2        28712   Male   53               11242\n",
       "3        28020   Male   23               23327\n",
       "4        27182   Male   33                8536"
      ]
     },
     "execution_count": 8,
     "metadata": {},
     "output_type": "execute_result"
    }
   ],
   "source": [
    "#Looking at the first few rows of the customer id data\n",
    "customer_id.head()"
   ]
  },
  {
   "cell_type": "code",
   "execution_count": 9,
   "metadata": {},
   "outputs": [
    {
     "name": "stdout",
     "output_type": "stream",
     "text": [
      "<class 'pandas.core.frame.DataFrame'>\n",
      "RangeIndex: 49171 entries, 0 to 49170\n",
      "Data columns (total 4 columns):\n",
      " #   Column              Non-Null Count  Dtype \n",
      "---  ------              --------------  ----- \n",
      " 0   Customer ID         49171 non-null  int64 \n",
      " 1   Gender              49171 non-null  object\n",
      " 2   Age                 49171 non-null  int64 \n",
      " 3   Income (USD/Month)  49171 non-null  int64 \n",
      "dtypes: int64(3), object(1)\n",
      "memory usage: 1.5+ MB\n"
     ]
    }
   ],
   "source": [
    "customer_id.info()"
   ]
  },
  {
   "cell_type": "code",
   "execution_count": 10,
   "metadata": {},
   "outputs": [
    {
     "data": {
      "text/html": [
       "<div>\n",
       "<style scoped>\n",
       "    .dataframe tbody tr th:only-of-type {\n",
       "        vertical-align: middle;\n",
       "    }\n",
       "\n",
       "    .dataframe tbody tr th {\n",
       "        vertical-align: top;\n",
       "    }\n",
       "\n",
       "    .dataframe thead th {\n",
       "        text-align: right;\n",
       "    }\n",
       "</style>\n",
       "<table border=\"1\" class=\"dataframe\">\n",
       "  <thead>\n",
       "    <tr style=\"text-align: right;\">\n",
       "      <th></th>\n",
       "      <th>Transaction ID</th>\n",
       "      <th>Customer ID</th>\n",
       "      <th>Payment_Mode</th>\n",
       "    </tr>\n",
       "  </thead>\n",
       "  <tbody>\n",
       "    <tr>\n",
       "      <th>0</th>\n",
       "      <td>10000011</td>\n",
       "      <td>29290</td>\n",
       "      <td>Card</td>\n",
       "    </tr>\n",
       "    <tr>\n",
       "      <th>1</th>\n",
       "      <td>10000012</td>\n",
       "      <td>27703</td>\n",
       "      <td>Card</td>\n",
       "    </tr>\n",
       "    <tr>\n",
       "      <th>2</th>\n",
       "      <td>10000013</td>\n",
       "      <td>28712</td>\n",
       "      <td>Cash</td>\n",
       "    </tr>\n",
       "    <tr>\n",
       "      <th>3</th>\n",
       "      <td>10000014</td>\n",
       "      <td>28020</td>\n",
       "      <td>Cash</td>\n",
       "    </tr>\n",
       "    <tr>\n",
       "      <th>4</th>\n",
       "      <td>10000015</td>\n",
       "      <td>27182</td>\n",
       "      <td>Card</td>\n",
       "    </tr>\n",
       "  </tbody>\n",
       "</table>\n",
       "</div>"
      ],
      "text/plain": [
       "   Transaction ID  Customer ID Payment_Mode\n",
       "0        10000011        29290         Card\n",
       "1        10000012        27703         Card\n",
       "2        10000013        28712         Cash\n",
       "3        10000014        28020         Cash\n",
       "4        10000015        27182         Card"
      ]
     },
     "execution_count": 10,
     "metadata": {},
     "output_type": "execute_result"
    }
   ],
   "source": [
    "#Looking at the first few rows of the transaction id data\n",
    "transaction_id.head()"
   ]
  },
  {
   "cell_type": "code",
   "execution_count": 11,
   "metadata": {},
   "outputs": [
    {
     "name": "stdout",
     "output_type": "stream",
     "text": [
      "<class 'pandas.core.frame.DataFrame'>\n",
      "RangeIndex: 440098 entries, 0 to 440097\n",
      "Data columns (total 3 columns):\n",
      " #   Column          Non-Null Count   Dtype \n",
      "---  ------          --------------   ----- \n",
      " 0   Transaction ID  440098 non-null  int64 \n",
      " 1   Customer ID     440098 non-null  int64 \n",
      " 2   Payment_Mode    440098 non-null  object\n",
      "dtypes: int64(2), object(1)\n",
      "memory usage: 10.1+ MB\n"
     ]
    }
   ],
   "source": [
    "transaction_id.info()"
   ]
  },
  {
   "cell_type": "code",
   "execution_count": 12,
   "metadata": {},
   "outputs": [
    {
     "data": {
      "text/html": [
       "<div>\n",
       "<style scoped>\n",
       "    .dataframe tbody tr th:only-of-type {\n",
       "        vertical-align: middle;\n",
       "    }\n",
       "\n",
       "    .dataframe tbody tr th {\n",
       "        vertical-align: top;\n",
       "    }\n",
       "\n",
       "    .dataframe thead th {\n",
       "        text-align: right;\n",
       "    }\n",
       "</style>\n",
       "<table border=\"1\" class=\"dataframe\">\n",
       "  <thead>\n",
       "    <tr style=\"text-align: right;\">\n",
       "      <th></th>\n",
       "      <th>City</th>\n",
       "      <th>Population</th>\n",
       "      <th>Users</th>\n",
       "    </tr>\n",
       "  </thead>\n",
       "  <tbody>\n",
       "    <tr>\n",
       "      <th>0</th>\n",
       "      <td>NEW YORK NY</td>\n",
       "      <td>8,405,837</td>\n",
       "      <td>302,149</td>\n",
       "    </tr>\n",
       "    <tr>\n",
       "      <th>1</th>\n",
       "      <td>CHICAGO IL</td>\n",
       "      <td>1,955,130</td>\n",
       "      <td>164,468</td>\n",
       "    </tr>\n",
       "    <tr>\n",
       "      <th>2</th>\n",
       "      <td>LOS ANGELES CA</td>\n",
       "      <td>1,595,037</td>\n",
       "      <td>144,132</td>\n",
       "    </tr>\n",
       "    <tr>\n",
       "      <th>3</th>\n",
       "      <td>MIAMI FL</td>\n",
       "      <td>1,339,155</td>\n",
       "      <td>17,675</td>\n",
       "    </tr>\n",
       "    <tr>\n",
       "      <th>4</th>\n",
       "      <td>SILICON VALLEY</td>\n",
       "      <td>1,177,609</td>\n",
       "      <td>27,247</td>\n",
       "    </tr>\n",
       "  </tbody>\n",
       "</table>\n",
       "</div>"
      ],
      "text/plain": [
       "             City   Population      Users\n",
       "0     NEW YORK NY   8,405,837    302,149 \n",
       "1      CHICAGO IL   1,955,130    164,468 \n",
       "2  LOS ANGELES CA   1,595,037    144,132 \n",
       "3        MIAMI FL   1,339,155     17,675 \n",
       "4  SILICON VALLEY   1,177,609     27,247 "
      ]
     },
     "execution_count": 12,
     "metadata": {},
     "output_type": "execute_result"
    }
   ],
   "source": [
    "#The first 5 rows of the city data\n",
    "city.head()"
   ]
  },
  {
   "cell_type": "code",
   "execution_count": 13,
   "metadata": {},
   "outputs": [
    {
     "name": "stdout",
     "output_type": "stream",
     "text": [
      "<class 'pandas.core.frame.DataFrame'>\n",
      "RangeIndex: 20 entries, 0 to 19\n",
      "Data columns (total 3 columns):\n",
      " #   Column      Non-Null Count  Dtype \n",
      "---  ------      --------------  ----- \n",
      " 0   City        20 non-null     object\n",
      " 1   Population  20 non-null     object\n",
      " 2   Users       20 non-null     object\n",
      "dtypes: object(3)\n",
      "memory usage: 608.0+ bytes\n"
     ]
    }
   ],
   "source": [
    "city.info()"
   ]
  },
  {
   "cell_type": "code",
   "execution_count": 14,
   "metadata": {},
   "outputs": [
    {
     "data": {
      "text/plain": [
       "20"
      ]
     },
     "execution_count": 14,
     "metadata": {},
     "output_type": "execute_result"
    }
   ],
   "source": [
    "#The different cities present in the cities data\n",
    "city['City'].nunique()"
   ]
  },
  {
   "cell_type": "code",
   "execution_count": 15,
   "metadata": {},
   "outputs": [
    {
     "data": {
      "text/plain": [
       "array(['ATLANTA GA', 'AUSTIN TX', 'BOSTON MA', 'CHICAGO IL', 'DALLAS TX',\n",
       "       'DENVER CO', 'LOS ANGELES CA', 'MIAMI FL', 'NASHVILLE TN',\n",
       "       'NEW YORK NY', 'ORANGE COUNTY', 'PHOENIX AZ', 'PITTSBURGH PA',\n",
       "       'SACRAMENTO CA', 'SAN DIEGO CA', 'SEATTLE WA', 'SILICON VALLEY',\n",
       "       'TUCSON AZ', 'WASHINGTON DC'], dtype=object)"
      ]
     },
     "execution_count": 15,
     "metadata": {},
     "output_type": "execute_result"
    }
   ],
   "source": [
    "#Cities present in the cab_data\n",
    "cab_data['City'].unique()"
   ]
  },
  {
   "cell_type": "code",
   "execution_count": 16,
   "metadata": {},
   "outputs": [
    {
     "data": {
      "text/plain": [
       "array(['NEW YORK NY', 'CHICAGO IL', 'LOS ANGELES CA', 'MIAMI FL',\n",
       "       'SILICON VALLEY', 'ORANGE COUNTY', 'SAN DIEGO CA', 'PHOENIX AZ',\n",
       "       'DALLAS TX', 'ATLANTA GA', 'DENVER CO', 'AUSTIN TX', 'SEATTLE WA',\n",
       "       'TUCSON AZ', 'SAN FRANCISCO CA', 'SACRAMENTO CA', 'PITTSBURGH PA',\n",
       "       'WASHINGTON DC', 'NASHVILLE TN', 'BOSTON MA'], dtype=object)"
      ]
     },
     "execution_count": 16,
     "metadata": {},
     "output_type": "execute_result"
    }
   ],
   "source": [
    "#Cities present in the city data\n",
    "city['City'].unique()"
   ]
  },
  {
   "cell_type": "markdown",
   "metadata": {},
   "source": [
    "There are 19 cities in the cab data but 20 in the cities data. I am assuming the number of cities should be the same for both data. Let's try to see which city is missing in the cab data."
   ]
  },
  {
   "cell_type": "code",
   "execution_count": 17,
   "metadata": {},
   "outputs": [],
   "source": [
    "cities = list(city['City'].unique())"
   ]
  },
  {
   "cell_type": "code",
   "execution_count": 18,
   "metadata": {},
   "outputs": [
    {
     "name": "stdout",
     "output_type": "stream",
     "text": [
      "The missing city is: ['SAN FRANCISCO CA']\n"
     ]
    }
   ],
   "source": [
    "lost_city = []\n",
    "for c in cities:\n",
    "    if c not in list(cab_data['City'].unique()):\n",
    "        lost_city.append(c)\n",
    "print('The missing city is:', lost_city)"
   ]
  },
  {
   "cell_type": "markdown",
   "metadata": {},
   "source": [
    "#### Exploratory Data Analysis\n",
    "\n",
    "Each dataset will be explored separately for any inconsistencies and missing values, before they are merged together for further EDA."
   ]
  },
  {
   "cell_type": "markdown",
   "metadata": {},
   "source": [
    "#### Exploring the Cab Data"
   ]
  },
  {
   "cell_type": "code",
   "execution_count": 19,
   "metadata": {},
   "outputs": [
    {
     "name": "stdout",
     "output_type": "stream",
     "text": [
      "<class 'pandas.core.frame.DataFrame'>\n",
      "RangeIndex: 359392 entries, 0 to 359391\n",
      "Data columns (total 7 columns):\n",
      " #   Column          Non-Null Count   Dtype  \n",
      "---  ------          --------------   -----  \n",
      " 0   Transaction ID  359392 non-null  int64  \n",
      " 1   Date of Travel  359392 non-null  float64\n",
      " 2   Company         359392 non-null  object \n",
      " 3   City            359392 non-null  object \n",
      " 4   KM Travelled    359392 non-null  float64\n",
      " 5   Price Charged   359392 non-null  float64\n",
      " 6   Cost of Trip    359392 non-null  float64\n",
      "dtypes: float64(4), int64(1), object(2)\n",
      "memory usage: 19.2+ MB\n"
     ]
    }
   ],
   "source": [
    "cab_data.info()"
   ]
  },
  {
   "cell_type": "code",
   "execution_count": 20,
   "metadata": {},
   "outputs": [
    {
     "name": "stdout",
     "output_type": "stream",
     "text": [
      "<class 'pandas.core.frame.DataFrame'>\n",
      "RangeIndex: 359392 entries, 0 to 359391\n",
      "Data columns (total 7 columns):\n",
      " #   Column          Non-Null Count   Dtype  \n",
      "---  ------          --------------   -----  \n",
      " 0   Transaction ID  359392 non-null  int64  \n",
      " 1   Date of Travel  359392 non-null  float64\n",
      " 2   Company         359392 non-null  object \n",
      " 3   City            359392 non-null  object \n",
      " 4   KM Travelled    359392 non-null  float64\n",
      " 5   Price Charged   359392 non-null  float64\n",
      " 6   Cost of Trip    359392 non-null  float64\n",
      "dtypes: float64(4), int64(1), object(2)\n",
      "memory usage: 19.2+ MB\n"
     ]
    }
   ],
   "source": [
    "cab_data.info()"
   ]
  },
  {
   "cell_type": "code",
   "execution_count": 21,
   "metadata": {},
   "outputs": [
    {
     "data": {
      "text/html": [
       "<div>\n",
       "<style scoped>\n",
       "    .dataframe tbody tr th:only-of-type {\n",
       "        vertical-align: middle;\n",
       "    }\n",
       "\n",
       "    .dataframe tbody tr th {\n",
       "        vertical-align: top;\n",
       "    }\n",
       "\n",
       "    .dataframe thead th {\n",
       "        text-align: right;\n",
       "    }\n",
       "</style>\n",
       "<table border=\"1\" class=\"dataframe\">\n",
       "  <thead>\n",
       "    <tr style=\"text-align: right;\">\n",
       "      <th></th>\n",
       "      <th>Transaction ID</th>\n",
       "      <th>Date of Travel</th>\n",
       "      <th>Company</th>\n",
       "      <th>City</th>\n",
       "      <th>KM Travelled</th>\n",
       "      <th>Price Charged</th>\n",
       "      <th>Cost of Trip</th>\n",
       "    </tr>\n",
       "  </thead>\n",
       "  <tbody>\n",
       "    <tr>\n",
       "      <th>0</th>\n",
       "      <td>10000011</td>\n",
       "      <td>42377.0</td>\n",
       "      <td>Pink Cab</td>\n",
       "      <td>ATLANTA GA</td>\n",
       "      <td>30.45</td>\n",
       "      <td>370.95</td>\n",
       "      <td>313.635</td>\n",
       "    </tr>\n",
       "    <tr>\n",
       "      <th>1</th>\n",
       "      <td>10000012</td>\n",
       "      <td>42375.0</td>\n",
       "      <td>Pink Cab</td>\n",
       "      <td>ATLANTA GA</td>\n",
       "      <td>28.62</td>\n",
       "      <td>358.52</td>\n",
       "      <td>334.854</td>\n",
       "    </tr>\n",
       "    <tr>\n",
       "      <th>2</th>\n",
       "      <td>10000013</td>\n",
       "      <td>42371.0</td>\n",
       "      <td>Pink Cab</td>\n",
       "      <td>ATLANTA GA</td>\n",
       "      <td>9.04</td>\n",
       "      <td>125.20</td>\n",
       "      <td>97.632</td>\n",
       "    </tr>\n",
       "  </tbody>\n",
       "</table>\n",
       "</div>"
      ],
      "text/plain": [
       "   Transaction ID  Date of Travel   Company        City  KM Travelled  \\\n",
       "0        10000011         42377.0  Pink Cab  ATLANTA GA         30.45   \n",
       "1        10000012         42375.0  Pink Cab  ATLANTA GA         28.62   \n",
       "2        10000013         42371.0  Pink Cab  ATLANTA GA          9.04   \n",
       "\n",
       "   Price Charged  Cost of Trip  \n",
       "0         370.95       313.635  \n",
       "1         358.52       334.854  \n",
       "2         125.20        97.632  "
      ]
     },
     "execution_count": 21,
     "metadata": {},
     "output_type": "execute_result"
    }
   ],
   "source": [
    "cab_data.head(3)"
   ]
  },
  {
   "cell_type": "markdown",
   "metadata": {},
   "source": [
    "The date of travel must be converted into a date type"
   ]
  },
  {
   "cell_type": "code",
   "execution_count": 22,
   "metadata": {},
   "outputs": [],
   "source": [
    "#Importing Datetime to help with the conversion\n",
    "import datetime"
   ]
  },
  {
   "cell_type": "code",
   "execution_count": 23,
   "metadata": {},
   "outputs": [],
   "source": [
    "cab_data['Date of Travel'] = pd.TimedeltaIndex(cab_data['Date of Travel'], unit = 'd') + datetime.datetime(1899, 12, 30)"
   ]
  },
  {
   "cell_type": "code",
   "execution_count": 24,
   "metadata": {},
   "outputs": [
    {
     "data": {
      "text/plain": [
       "Timestamp('2018-12-31 00:00:00')"
      ]
     },
     "execution_count": 24,
     "metadata": {},
     "output_type": "execute_result"
    }
   ],
   "source": [
    "cab_data['Date of Travel'].max()"
   ]
  },
  {
   "cell_type": "code",
   "execution_count": 25,
   "metadata": {},
   "outputs": [
    {
     "name": "stdout",
     "output_type": "stream",
     "text": [
      "<class 'pandas.core.frame.DataFrame'>\n",
      "RangeIndex: 359392 entries, 0 to 359391\n",
      "Data columns (total 7 columns):\n",
      " #   Column          Non-Null Count   Dtype         \n",
      "---  ------          --------------   -----         \n",
      " 0   Transaction ID  359392 non-null  int64         \n",
      " 1   Date of Travel  359392 non-null  datetime64[ns]\n",
      " 2   Company         359392 non-null  object        \n",
      " 3   City            359392 non-null  object        \n",
      " 4   KM Travelled    359392 non-null  float64       \n",
      " 5   Price Charged   359392 non-null  float64       \n",
      " 6   Cost of Trip    359392 non-null  float64       \n",
      "dtypes: datetime64[ns](1), float64(3), int64(1), object(2)\n",
      "memory usage: 19.2+ MB\n"
     ]
    }
   ],
   "source": [
    "cab_data.info()"
   ]
  },
  {
   "cell_type": "code",
   "execution_count": 26,
   "metadata": {},
   "outputs": [
    {
     "data": {
      "text/plain": [
       "Transaction ID    0\n",
       "Date of Travel    0\n",
       "Company           0\n",
       "City              0\n",
       "KM Travelled      0\n",
       "Price Charged     0\n",
       "Cost of Trip      0\n",
       "dtype: int64"
      ]
     },
     "execution_count": 26,
     "metadata": {},
     "output_type": "execute_result"
    }
   ],
   "source": [
    "#Checking for the presence of null values\n",
    "cab_data.isnull().sum()"
   ]
  },
  {
   "cell_type": "code",
   "execution_count": 27,
   "metadata": {},
   "outputs": [
    {
     "data": {
      "text/html": [
       "<div>\n",
       "<style scoped>\n",
       "    .dataframe tbody tr th:only-of-type {\n",
       "        vertical-align: middle;\n",
       "    }\n",
       "\n",
       "    .dataframe tbody tr th {\n",
       "        vertical-align: top;\n",
       "    }\n",
       "\n",
       "    .dataframe thead th {\n",
       "        text-align: right;\n",
       "    }\n",
       "</style>\n",
       "<table border=\"1\" class=\"dataframe\">\n",
       "  <thead>\n",
       "    <tr style=\"text-align: right;\">\n",
       "      <th></th>\n",
       "      <th>KM Travelled</th>\n",
       "      <th>Price Charged</th>\n",
       "      <th>Cost of Trip</th>\n",
       "    </tr>\n",
       "  </thead>\n",
       "  <tbody>\n",
       "    <tr>\n",
       "      <th>count</th>\n",
       "      <td>359392.000000</td>\n",
       "      <td>359392.000000</td>\n",
       "      <td>359392.000000</td>\n",
       "    </tr>\n",
       "    <tr>\n",
       "      <th>mean</th>\n",
       "      <td>22.567254</td>\n",
       "      <td>423.443311</td>\n",
       "      <td>286.190113</td>\n",
       "    </tr>\n",
       "    <tr>\n",
       "      <th>std</th>\n",
       "      <td>12.233526</td>\n",
       "      <td>274.378911</td>\n",
       "      <td>157.993661</td>\n",
       "    </tr>\n",
       "    <tr>\n",
       "      <th>min</th>\n",
       "      <td>1.900000</td>\n",
       "      <td>15.600000</td>\n",
       "      <td>19.000000</td>\n",
       "    </tr>\n",
       "    <tr>\n",
       "      <th>25%</th>\n",
       "      <td>12.000000</td>\n",
       "      <td>206.437500</td>\n",
       "      <td>151.200000</td>\n",
       "    </tr>\n",
       "    <tr>\n",
       "      <th>50%</th>\n",
       "      <td>22.440000</td>\n",
       "      <td>386.360000</td>\n",
       "      <td>282.480000</td>\n",
       "    </tr>\n",
       "    <tr>\n",
       "      <th>75%</th>\n",
       "      <td>32.960000</td>\n",
       "      <td>583.660000</td>\n",
       "      <td>413.683200</td>\n",
       "    </tr>\n",
       "    <tr>\n",
       "      <th>max</th>\n",
       "      <td>48.000000</td>\n",
       "      <td>2048.030000</td>\n",
       "      <td>691.200000</td>\n",
       "    </tr>\n",
       "  </tbody>\n",
       "</table>\n",
       "</div>"
      ],
      "text/plain": [
       "        KM Travelled  Price Charged   Cost of Trip\n",
       "count  359392.000000  359392.000000  359392.000000\n",
       "mean       22.567254     423.443311     286.190113\n",
       "std        12.233526     274.378911     157.993661\n",
       "min         1.900000      15.600000      19.000000\n",
       "25%        12.000000     206.437500     151.200000\n",
       "50%        22.440000     386.360000     282.480000\n",
       "75%        32.960000     583.660000     413.683200\n",
       "max        48.000000    2048.030000     691.200000"
      ]
     },
     "execution_count": 27,
     "metadata": {},
     "output_type": "execute_result"
    }
   ],
   "source": [
    "#descriptive statistics on the cab_data\n",
    "cab_data[['KM Travelled', 'Price Charged', 'Cost of Trip']].describe()"
   ]
  },
  {
   "cell_type": "code",
   "execution_count": 28,
   "metadata": {},
   "outputs": [
    {
     "data": {
      "text/plain": [
       "Customer ID           0\n",
       "Gender                0\n",
       "Age                   0\n",
       "Income (USD/Month)    0\n",
       "dtype: int64"
      ]
     },
     "execution_count": 28,
     "metadata": {},
     "output_type": "execute_result"
    }
   ],
   "source": [
    "customer_id.isnull().sum()"
   ]
  },
  {
   "cell_type": "code",
   "execution_count": 29,
   "metadata": {},
   "outputs": [
    {
     "data": {
      "text/html": [
       "<div>\n",
       "<style scoped>\n",
       "    .dataframe tbody tr th:only-of-type {\n",
       "        vertical-align: middle;\n",
       "    }\n",
       "\n",
       "    .dataframe tbody tr th {\n",
       "        vertical-align: top;\n",
       "    }\n",
       "\n",
       "    .dataframe thead th {\n",
       "        text-align: right;\n",
       "    }\n",
       "</style>\n",
       "<table border=\"1\" class=\"dataframe\">\n",
       "  <thead>\n",
       "    <tr style=\"text-align: right;\">\n",
       "      <th></th>\n",
       "      <th>Customer ID</th>\n",
       "      <th>Gender</th>\n",
       "      <th>Age</th>\n",
       "      <th>Income (USD/Month)</th>\n",
       "    </tr>\n",
       "  </thead>\n",
       "  <tbody>\n",
       "    <tr>\n",
       "      <th>0</th>\n",
       "      <td>29290</td>\n",
       "      <td>Male</td>\n",
       "      <td>28</td>\n",
       "      <td>10813</td>\n",
       "    </tr>\n",
       "    <tr>\n",
       "      <th>1</th>\n",
       "      <td>27703</td>\n",
       "      <td>Male</td>\n",
       "      <td>27</td>\n",
       "      <td>9237</td>\n",
       "    </tr>\n",
       "  </tbody>\n",
       "</table>\n",
       "</div>"
      ],
      "text/plain": [
       "   Customer ID Gender  Age  Income (USD/Month)\n",
       "0        29290   Male   28               10813\n",
       "1        27703   Male   27                9237"
      ]
     },
     "execution_count": 29,
     "metadata": {},
     "output_type": "execute_result"
    }
   ],
   "source": [
    "customer_id.head(2)"
   ]
  },
  {
   "cell_type": "code",
   "execution_count": 30,
   "metadata": {},
   "outputs": [
    {
     "data": {
      "text/html": [
       "<div>\n",
       "<style scoped>\n",
       "    .dataframe tbody tr th:only-of-type {\n",
       "        vertical-align: middle;\n",
       "    }\n",
       "\n",
       "    .dataframe tbody tr th {\n",
       "        vertical-align: top;\n",
       "    }\n",
       "\n",
       "    .dataframe thead th {\n",
       "        text-align: right;\n",
       "    }\n",
       "</style>\n",
       "<table border=\"1\" class=\"dataframe\">\n",
       "  <thead>\n",
       "    <tr style=\"text-align: right;\">\n",
       "      <th></th>\n",
       "      <th>Age</th>\n",
       "      <th>Income (USD/Month)</th>\n",
       "    </tr>\n",
       "  </thead>\n",
       "  <tbody>\n",
       "    <tr>\n",
       "      <th>count</th>\n",
       "      <td>49171.000000</td>\n",
       "      <td>49171.000000</td>\n",
       "    </tr>\n",
       "    <tr>\n",
       "      <th>mean</th>\n",
       "      <td>35.363121</td>\n",
       "      <td>15015.631856</td>\n",
       "    </tr>\n",
       "    <tr>\n",
       "      <th>std</th>\n",
       "      <td>12.599066</td>\n",
       "      <td>8002.208253</td>\n",
       "    </tr>\n",
       "    <tr>\n",
       "      <th>min</th>\n",
       "      <td>18.000000</td>\n",
       "      <td>2000.000000</td>\n",
       "    </tr>\n",
       "    <tr>\n",
       "      <th>25%</th>\n",
       "      <td>25.000000</td>\n",
       "      <td>8289.500000</td>\n",
       "    </tr>\n",
       "    <tr>\n",
       "      <th>50%</th>\n",
       "      <td>33.000000</td>\n",
       "      <td>14656.000000</td>\n",
       "    </tr>\n",
       "    <tr>\n",
       "      <th>75%</th>\n",
       "      <td>42.000000</td>\n",
       "      <td>21035.000000</td>\n",
       "    </tr>\n",
       "    <tr>\n",
       "      <th>max</th>\n",
       "      <td>65.000000</td>\n",
       "      <td>35000.000000</td>\n",
       "    </tr>\n",
       "  </tbody>\n",
       "</table>\n",
       "</div>"
      ],
      "text/plain": [
       "                Age  Income (USD/Month)\n",
       "count  49171.000000        49171.000000\n",
       "mean      35.363121        15015.631856\n",
       "std       12.599066         8002.208253\n",
       "min       18.000000         2000.000000\n",
       "25%       25.000000         8289.500000\n",
       "50%       33.000000        14656.000000\n",
       "75%       42.000000        21035.000000\n",
       "max       65.000000        35000.000000"
      ]
     },
     "execution_count": 30,
     "metadata": {},
     "output_type": "execute_result"
    }
   ],
   "source": [
    "#Descriptive statistics on the customer id data\n",
    "customer_id[['Age', 'Income (USD/Month)']].describe()"
   ]
  },
  {
   "cell_type": "code",
   "execution_count": 31,
   "metadata": {},
   "outputs": [
    {
     "data": {
      "text/plain": [
       "Transaction ID    0\n",
       "Customer ID       0\n",
       "Payment_Mode      0\n",
       "dtype: int64"
      ]
     },
     "execution_count": 31,
     "metadata": {},
     "output_type": "execute_result"
    }
   ],
   "source": [
    "transaction_id.isnull().sum()"
   ]
  },
  {
   "cell_type": "code",
   "execution_count": 32,
   "metadata": {},
   "outputs": [
    {
     "data": {
      "text/plain": [
       "City          0\n",
       "Population    0\n",
       "Users         0\n",
       "dtype: int64"
      ]
     },
     "execution_count": 32,
     "metadata": {},
     "output_type": "execute_result"
    }
   ],
   "source": [
    "city.isnull().sum()"
   ]
  },
  {
   "cell_type": "markdown",
   "metadata": {},
   "source": [
    "### Join Datasets and continue with EDA"
   ]
  },
  {
   "cell_type": "code",
   "execution_count": 33,
   "metadata": {},
   "outputs": [],
   "source": [
    "#Merging customer id data with transaction id data because of the common customer id column\n",
    "\n",
    "cust_id_trans_id = pd.merge(customer_id, transaction_id)"
   ]
  },
  {
   "cell_type": "code",
   "execution_count": 34,
   "metadata": {},
   "outputs": [
    {
     "data": {
      "text/html": [
       "<div>\n",
       "<style scoped>\n",
       "    .dataframe tbody tr th:only-of-type {\n",
       "        vertical-align: middle;\n",
       "    }\n",
       "\n",
       "    .dataframe tbody tr th {\n",
       "        vertical-align: top;\n",
       "    }\n",
       "\n",
       "    .dataframe thead th {\n",
       "        text-align: right;\n",
       "    }\n",
       "</style>\n",
       "<table border=\"1\" class=\"dataframe\">\n",
       "  <thead>\n",
       "    <tr style=\"text-align: right;\">\n",
       "      <th></th>\n",
       "      <th>Customer ID</th>\n",
       "      <th>Gender</th>\n",
       "      <th>Age</th>\n",
       "      <th>Income (USD/Month)</th>\n",
       "      <th>Transaction ID</th>\n",
       "      <th>Payment_Mode</th>\n",
       "    </tr>\n",
       "  </thead>\n",
       "  <tbody>\n",
       "    <tr>\n",
       "      <th>0</th>\n",
       "      <td>29290</td>\n",
       "      <td>Male</td>\n",
       "      <td>28</td>\n",
       "      <td>10813</td>\n",
       "      <td>10000011</td>\n",
       "      <td>Card</td>\n",
       "    </tr>\n",
       "    <tr>\n",
       "      <th>1</th>\n",
       "      <td>29290</td>\n",
       "      <td>Male</td>\n",
       "      <td>28</td>\n",
       "      <td>10813</td>\n",
       "      <td>10351127</td>\n",
       "      <td>Cash</td>\n",
       "    </tr>\n",
       "    <tr>\n",
       "      <th>2</th>\n",
       "      <td>29290</td>\n",
       "      <td>Male</td>\n",
       "      <td>28</td>\n",
       "      <td>10813</td>\n",
       "      <td>10412921</td>\n",
       "      <td>Card</td>\n",
       "    </tr>\n",
       "  </tbody>\n",
       "</table>\n",
       "</div>"
      ],
      "text/plain": [
       "   Customer ID Gender  Age  Income (USD/Month)  Transaction ID Payment_Mode\n",
       "0        29290   Male   28               10813        10000011         Card\n",
       "1        29290   Male   28               10813        10351127         Cash\n",
       "2        29290   Male   28               10813        10412921         Card"
      ]
     },
     "execution_count": 34,
     "metadata": {},
     "output_type": "execute_result"
    }
   ],
   "source": [
    "cust_id_trans_id.head(3)"
   ]
  },
  {
   "cell_type": "code",
   "execution_count": 35,
   "metadata": {},
   "outputs": [],
   "source": [
    "#merging cab_data with cust_id_trans_id based on the transaction id column\n",
    "\n",
    "cab_cust_id_trans_id = pd.merge(cab_data, cust_id_trans_id)"
   ]
  },
  {
   "cell_type": "code",
   "execution_count": 36,
   "metadata": {},
   "outputs": [
    {
     "data": {
      "text/html": [
       "<div>\n",
       "<style scoped>\n",
       "    .dataframe tbody tr th:only-of-type {\n",
       "        vertical-align: middle;\n",
       "    }\n",
       "\n",
       "    .dataframe tbody tr th {\n",
       "        vertical-align: top;\n",
       "    }\n",
       "\n",
       "    .dataframe thead th {\n",
       "        text-align: right;\n",
       "    }\n",
       "</style>\n",
       "<table border=\"1\" class=\"dataframe\">\n",
       "  <thead>\n",
       "    <tr style=\"text-align: right;\">\n",
       "      <th></th>\n",
       "      <th>Transaction ID</th>\n",
       "      <th>Date of Travel</th>\n",
       "      <th>Company</th>\n",
       "      <th>City</th>\n",
       "      <th>KM Travelled</th>\n",
       "      <th>Price Charged</th>\n",
       "      <th>Cost of Trip</th>\n",
       "      <th>Customer ID</th>\n",
       "      <th>Gender</th>\n",
       "      <th>Age</th>\n",
       "      <th>Income (USD/Month)</th>\n",
       "      <th>Payment_Mode</th>\n",
       "    </tr>\n",
       "  </thead>\n",
       "  <tbody>\n",
       "    <tr>\n",
       "      <th>0</th>\n",
       "      <td>10000011</td>\n",
       "      <td>2016-01-08</td>\n",
       "      <td>Pink Cab</td>\n",
       "      <td>ATLANTA GA</td>\n",
       "      <td>30.45</td>\n",
       "      <td>370.95</td>\n",
       "      <td>313.635</td>\n",
       "      <td>29290</td>\n",
       "      <td>Male</td>\n",
       "      <td>28</td>\n",
       "      <td>10813</td>\n",
       "      <td>Card</td>\n",
       "    </tr>\n",
       "    <tr>\n",
       "      <th>1</th>\n",
       "      <td>10000012</td>\n",
       "      <td>2016-01-06</td>\n",
       "      <td>Pink Cab</td>\n",
       "      <td>ATLANTA GA</td>\n",
       "      <td>28.62</td>\n",
       "      <td>358.52</td>\n",
       "      <td>334.854</td>\n",
       "      <td>27703</td>\n",
       "      <td>Male</td>\n",
       "      <td>27</td>\n",
       "      <td>9237</td>\n",
       "      <td>Card</td>\n",
       "    </tr>\n",
       "    <tr>\n",
       "      <th>2</th>\n",
       "      <td>10000013</td>\n",
       "      <td>2016-01-02</td>\n",
       "      <td>Pink Cab</td>\n",
       "      <td>ATLANTA GA</td>\n",
       "      <td>9.04</td>\n",
       "      <td>125.20</td>\n",
       "      <td>97.632</td>\n",
       "      <td>28712</td>\n",
       "      <td>Male</td>\n",
       "      <td>53</td>\n",
       "      <td>11242</td>\n",
       "      <td>Cash</td>\n",
       "    </tr>\n",
       "  </tbody>\n",
       "</table>\n",
       "</div>"
      ],
      "text/plain": [
       "   Transaction ID Date of Travel   Company        City  KM Travelled  \\\n",
       "0        10000011     2016-01-08  Pink Cab  ATLANTA GA         30.45   \n",
       "1        10000012     2016-01-06  Pink Cab  ATLANTA GA         28.62   \n",
       "2        10000013     2016-01-02  Pink Cab  ATLANTA GA          9.04   \n",
       "\n",
       "   Price Charged  Cost of Trip  Customer ID Gender  Age  Income (USD/Month)  \\\n",
       "0         370.95       313.635        29290   Male   28               10813   \n",
       "1         358.52       334.854        27703   Male   27                9237   \n",
       "2         125.20        97.632        28712   Male   53               11242   \n",
       "\n",
       "  Payment_Mode  \n",
       "0         Card  \n",
       "1         Card  \n",
       "2         Cash  "
      ]
     },
     "execution_count": 36,
     "metadata": {},
     "output_type": "execute_result"
    }
   ],
   "source": [
    "cab_cust_id_trans_id.head(3)"
   ]
  },
  {
   "cell_type": "code",
   "execution_count": 37,
   "metadata": {},
   "outputs": [],
   "source": [
    "#Merge city data to all previously merged data\n",
    "\n",
    "data = pd.merge(cab_cust_id_trans_id, city)"
   ]
  },
  {
   "cell_type": "code",
   "execution_count": 38,
   "metadata": {},
   "outputs": [
    {
     "data": {
      "text/html": [
       "<div>\n",
       "<style scoped>\n",
       "    .dataframe tbody tr th:only-of-type {\n",
       "        vertical-align: middle;\n",
       "    }\n",
       "\n",
       "    .dataframe tbody tr th {\n",
       "        vertical-align: top;\n",
       "    }\n",
       "\n",
       "    .dataframe thead th {\n",
       "        text-align: right;\n",
       "    }\n",
       "</style>\n",
       "<table border=\"1\" class=\"dataframe\">\n",
       "  <thead>\n",
       "    <tr style=\"text-align: right;\">\n",
       "      <th></th>\n",
       "      <th>Transaction ID</th>\n",
       "      <th>Date of Travel</th>\n",
       "      <th>Company</th>\n",
       "      <th>City</th>\n",
       "      <th>KM Travelled</th>\n",
       "      <th>Price Charged</th>\n",
       "      <th>Cost of Trip</th>\n",
       "      <th>Customer ID</th>\n",
       "      <th>Gender</th>\n",
       "      <th>Age</th>\n",
       "      <th>Income (USD/Month)</th>\n",
       "      <th>Payment_Mode</th>\n",
       "      <th>Population</th>\n",
       "      <th>Users</th>\n",
       "    </tr>\n",
       "  </thead>\n",
       "  <tbody>\n",
       "    <tr>\n",
       "      <th>0</th>\n",
       "      <td>10000011</td>\n",
       "      <td>2016-01-08</td>\n",
       "      <td>Pink Cab</td>\n",
       "      <td>ATLANTA GA</td>\n",
       "      <td>30.45</td>\n",
       "      <td>370.95</td>\n",
       "      <td>313.635</td>\n",
       "      <td>29290</td>\n",
       "      <td>Male</td>\n",
       "      <td>28</td>\n",
       "      <td>10813</td>\n",
       "      <td>Card</td>\n",
       "      <td>814,885</td>\n",
       "      <td>24,701</td>\n",
       "    </tr>\n",
       "    <tr>\n",
       "      <th>1</th>\n",
       "      <td>10000012</td>\n",
       "      <td>2016-01-06</td>\n",
       "      <td>Pink Cab</td>\n",
       "      <td>ATLANTA GA</td>\n",
       "      <td>28.62</td>\n",
       "      <td>358.52</td>\n",
       "      <td>334.854</td>\n",
       "      <td>27703</td>\n",
       "      <td>Male</td>\n",
       "      <td>27</td>\n",
       "      <td>9237</td>\n",
       "      <td>Card</td>\n",
       "      <td>814,885</td>\n",
       "      <td>24,701</td>\n",
       "    </tr>\n",
       "    <tr>\n",
       "      <th>2</th>\n",
       "      <td>10000013</td>\n",
       "      <td>2016-01-02</td>\n",
       "      <td>Pink Cab</td>\n",
       "      <td>ATLANTA GA</td>\n",
       "      <td>9.04</td>\n",
       "      <td>125.20</td>\n",
       "      <td>97.632</td>\n",
       "      <td>28712</td>\n",
       "      <td>Male</td>\n",
       "      <td>53</td>\n",
       "      <td>11242</td>\n",
       "      <td>Cash</td>\n",
       "      <td>814,885</td>\n",
       "      <td>24,701</td>\n",
       "    </tr>\n",
       "  </tbody>\n",
       "</table>\n",
       "</div>"
      ],
      "text/plain": [
       "   Transaction ID Date of Travel   Company        City  KM Travelled  \\\n",
       "0        10000011     2016-01-08  Pink Cab  ATLANTA GA         30.45   \n",
       "1        10000012     2016-01-06  Pink Cab  ATLANTA GA         28.62   \n",
       "2        10000013     2016-01-02  Pink Cab  ATLANTA GA          9.04   \n",
       "\n",
       "   Price Charged  Cost of Trip  Customer ID Gender  Age  Income (USD/Month)  \\\n",
       "0         370.95       313.635        29290   Male   28               10813   \n",
       "1         358.52       334.854        27703   Male   27                9237   \n",
       "2         125.20        97.632        28712   Male   53               11242   \n",
       "\n",
       "  Payment_Mode Population     Users  \n",
       "0         Card   814,885    24,701   \n",
       "1         Card   814,885    24,701   \n",
       "2         Cash   814,885    24,701   "
      ]
     },
     "execution_count": 38,
     "metadata": {},
     "output_type": "execute_result"
    }
   ],
   "source": [
    "data.head(3)"
   ]
  },
  {
   "cell_type": "code",
   "execution_count": 39,
   "metadata": {},
   "outputs": [],
   "source": [
    "#For some reason i would like to move the customer_id column to the first position.\n",
    "col_to_first = data.pop('Customer ID')\n",
    "\n",
    "data.insert(0, \"Customer ID\", col_to_first)"
   ]
  },
  {
   "cell_type": "code",
   "execution_count": 40,
   "metadata": {},
   "outputs": [
    {
     "data": {
      "text/html": [
       "<div>\n",
       "<style scoped>\n",
       "    .dataframe tbody tr th:only-of-type {\n",
       "        vertical-align: middle;\n",
       "    }\n",
       "\n",
       "    .dataframe tbody tr th {\n",
       "        vertical-align: top;\n",
       "    }\n",
       "\n",
       "    .dataframe thead th {\n",
       "        text-align: right;\n",
       "    }\n",
       "</style>\n",
       "<table border=\"1\" class=\"dataframe\">\n",
       "  <thead>\n",
       "    <tr style=\"text-align: right;\">\n",
       "      <th></th>\n",
       "      <th>Customer ID</th>\n",
       "      <th>Transaction ID</th>\n",
       "      <th>Date of Travel</th>\n",
       "      <th>Company</th>\n",
       "      <th>City</th>\n",
       "      <th>KM Travelled</th>\n",
       "      <th>Price Charged</th>\n",
       "      <th>Cost of Trip</th>\n",
       "      <th>Gender</th>\n",
       "      <th>Age</th>\n",
       "      <th>Income (USD/Month)</th>\n",
       "      <th>Payment_Mode</th>\n",
       "      <th>Population</th>\n",
       "      <th>Users</th>\n",
       "    </tr>\n",
       "  </thead>\n",
       "  <tbody>\n",
       "    <tr>\n",
       "      <th>0</th>\n",
       "      <td>29290</td>\n",
       "      <td>10000011</td>\n",
       "      <td>2016-01-08</td>\n",
       "      <td>Pink Cab</td>\n",
       "      <td>ATLANTA GA</td>\n",
       "      <td>30.45</td>\n",
       "      <td>370.95</td>\n",
       "      <td>313.635</td>\n",
       "      <td>Male</td>\n",
       "      <td>28</td>\n",
       "      <td>10813</td>\n",
       "      <td>Card</td>\n",
       "      <td>814,885</td>\n",
       "      <td>24,701</td>\n",
       "    </tr>\n",
       "    <tr>\n",
       "      <th>1</th>\n",
       "      <td>27703</td>\n",
       "      <td>10000012</td>\n",
       "      <td>2016-01-06</td>\n",
       "      <td>Pink Cab</td>\n",
       "      <td>ATLANTA GA</td>\n",
       "      <td>28.62</td>\n",
       "      <td>358.52</td>\n",
       "      <td>334.854</td>\n",
       "      <td>Male</td>\n",
       "      <td>27</td>\n",
       "      <td>9237</td>\n",
       "      <td>Card</td>\n",
       "      <td>814,885</td>\n",
       "      <td>24,701</td>\n",
       "    </tr>\n",
       "    <tr>\n",
       "      <th>2</th>\n",
       "      <td>28712</td>\n",
       "      <td>10000013</td>\n",
       "      <td>2016-01-02</td>\n",
       "      <td>Pink Cab</td>\n",
       "      <td>ATLANTA GA</td>\n",
       "      <td>9.04</td>\n",
       "      <td>125.20</td>\n",
       "      <td>97.632</td>\n",
       "      <td>Male</td>\n",
       "      <td>53</td>\n",
       "      <td>11242</td>\n",
       "      <td>Cash</td>\n",
       "      <td>814,885</td>\n",
       "      <td>24,701</td>\n",
       "    </tr>\n",
       "  </tbody>\n",
       "</table>\n",
       "</div>"
      ],
      "text/plain": [
       "   Customer ID  Transaction ID Date of Travel   Company        City  \\\n",
       "0        29290        10000011     2016-01-08  Pink Cab  ATLANTA GA   \n",
       "1        27703        10000012     2016-01-06  Pink Cab  ATLANTA GA   \n",
       "2        28712        10000013     2016-01-02  Pink Cab  ATLANTA GA   \n",
       "\n",
       "   KM Travelled  Price Charged  Cost of Trip Gender  Age  Income (USD/Month)  \\\n",
       "0         30.45         370.95       313.635   Male   28               10813   \n",
       "1         28.62         358.52       334.854   Male   27                9237   \n",
       "2          9.04         125.20        97.632   Male   53               11242   \n",
       "\n",
       "  Payment_Mode Population     Users  \n",
       "0         Card   814,885    24,701   \n",
       "1         Card   814,885    24,701   \n",
       "2         Cash   814,885    24,701   "
      ]
     },
     "execution_count": 40,
     "metadata": {},
     "output_type": "execute_result"
    }
   ],
   "source": [
    "data.head(3)"
   ]
  },
  {
   "cell_type": "code",
   "execution_count": 41,
   "metadata": {},
   "outputs": [
    {
     "name": "stdout",
     "output_type": "stream",
     "text": [
      "<class 'pandas.core.frame.DataFrame'>\n",
      "Int64Index: 359392 entries, 0 to 359391\n",
      "Data columns (total 14 columns):\n",
      " #   Column              Non-Null Count   Dtype         \n",
      "---  ------              --------------   -----         \n",
      " 0   Customer ID         359392 non-null  int64         \n",
      " 1   Transaction ID      359392 non-null  int64         \n",
      " 2   Date of Travel      359392 non-null  datetime64[ns]\n",
      " 3   Company             359392 non-null  object        \n",
      " 4   City                359392 non-null  object        \n",
      " 5   KM Travelled        359392 non-null  float64       \n",
      " 6   Price Charged       359392 non-null  float64       \n",
      " 7   Cost of Trip        359392 non-null  float64       \n",
      " 8   Gender              359392 non-null  object        \n",
      " 9   Age                 359392 non-null  int64         \n",
      " 10  Income (USD/Month)  359392 non-null  int64         \n",
      " 11  Payment_Mode        359392 non-null  object        \n",
      " 12  Population          359392 non-null  object        \n",
      " 13  Users               359392 non-null  object        \n",
      "dtypes: datetime64[ns](1), float64(3), int64(4), object(6)\n",
      "memory usage: 41.1+ MB\n"
     ]
    }
   ],
   "source": [
    "data.info()"
   ]
  },
  {
   "cell_type": "markdown",
   "metadata": {},
   "source": [
    "The population and users column wrongly coded as strings instead of numerical."
   ]
  },
  {
   "cell_type": "code",
   "execution_count": 42,
   "metadata": {},
   "outputs": [],
   "source": [
    "#Changing the population and users column types to numeric\n",
    "data['Population'] = data['Population'].str.replace(',', '')\n",
    "data['Users'] = data['Users'].str.replace(',', '')\n",
    "\n",
    "\n",
    "data['Population'] = data['Population'].astype('int')\n",
    "data['Users'] = data['Users'].astype('int')"
   ]
  },
  {
   "cell_type": "code",
   "execution_count": 43,
   "metadata": {},
   "outputs": [
    {
     "data": {
      "text/html": [
       "<div>\n",
       "<style scoped>\n",
       "    .dataframe tbody tr th:only-of-type {\n",
       "        vertical-align: middle;\n",
       "    }\n",
       "\n",
       "    .dataframe tbody tr th {\n",
       "        vertical-align: top;\n",
       "    }\n",
       "\n",
       "    .dataframe thead th {\n",
       "        text-align: right;\n",
       "    }\n",
       "</style>\n",
       "<table border=\"1\" class=\"dataframe\">\n",
       "  <thead>\n",
       "    <tr style=\"text-align: right;\">\n",
       "      <th></th>\n",
       "      <th>Customer ID</th>\n",
       "      <th>Transaction ID</th>\n",
       "      <th>Date of Travel</th>\n",
       "      <th>Company</th>\n",
       "      <th>City</th>\n",
       "      <th>KM Travelled</th>\n",
       "      <th>Price Charged</th>\n",
       "      <th>Cost of Trip</th>\n",
       "      <th>Gender</th>\n",
       "      <th>Age</th>\n",
       "      <th>Income (USD/Month)</th>\n",
       "      <th>Payment_Mode</th>\n",
       "      <th>Population</th>\n",
       "      <th>Users</th>\n",
       "    </tr>\n",
       "  </thead>\n",
       "  <tbody>\n",
       "    <tr>\n",
       "      <th>0</th>\n",
       "      <td>29290</td>\n",
       "      <td>10000011</td>\n",
       "      <td>2016-01-08</td>\n",
       "      <td>Pink Cab</td>\n",
       "      <td>ATLANTA GA</td>\n",
       "      <td>30.45</td>\n",
       "      <td>370.95</td>\n",
       "      <td>313.635</td>\n",
       "      <td>Male</td>\n",
       "      <td>28</td>\n",
       "      <td>10813</td>\n",
       "      <td>Card</td>\n",
       "      <td>814885</td>\n",
       "      <td>24701</td>\n",
       "    </tr>\n",
       "    <tr>\n",
       "      <th>1</th>\n",
       "      <td>27703</td>\n",
       "      <td>10000012</td>\n",
       "      <td>2016-01-06</td>\n",
       "      <td>Pink Cab</td>\n",
       "      <td>ATLANTA GA</td>\n",
       "      <td>28.62</td>\n",
       "      <td>358.52</td>\n",
       "      <td>334.854</td>\n",
       "      <td>Male</td>\n",
       "      <td>27</td>\n",
       "      <td>9237</td>\n",
       "      <td>Card</td>\n",
       "      <td>814885</td>\n",
       "      <td>24701</td>\n",
       "    </tr>\n",
       "    <tr>\n",
       "      <th>2</th>\n",
       "      <td>28712</td>\n",
       "      <td>10000013</td>\n",
       "      <td>2016-01-02</td>\n",
       "      <td>Pink Cab</td>\n",
       "      <td>ATLANTA GA</td>\n",
       "      <td>9.04</td>\n",
       "      <td>125.20</td>\n",
       "      <td>97.632</td>\n",
       "      <td>Male</td>\n",
       "      <td>53</td>\n",
       "      <td>11242</td>\n",
       "      <td>Cash</td>\n",
       "      <td>814885</td>\n",
       "      <td>24701</td>\n",
       "    </tr>\n",
       "    <tr>\n",
       "      <th>3</th>\n",
       "      <td>28020</td>\n",
       "      <td>10000014</td>\n",
       "      <td>2016-01-07</td>\n",
       "      <td>Pink Cab</td>\n",
       "      <td>ATLANTA GA</td>\n",
       "      <td>33.17</td>\n",
       "      <td>377.40</td>\n",
       "      <td>351.602</td>\n",
       "      <td>Male</td>\n",
       "      <td>23</td>\n",
       "      <td>23327</td>\n",
       "      <td>Cash</td>\n",
       "      <td>814885</td>\n",
       "      <td>24701</td>\n",
       "    </tr>\n",
       "    <tr>\n",
       "      <th>4</th>\n",
       "      <td>27182</td>\n",
       "      <td>10000015</td>\n",
       "      <td>2016-01-03</td>\n",
       "      <td>Pink Cab</td>\n",
       "      <td>ATLANTA GA</td>\n",
       "      <td>8.73</td>\n",
       "      <td>114.62</td>\n",
       "      <td>97.776</td>\n",
       "      <td>Male</td>\n",
       "      <td>33</td>\n",
       "      <td>8536</td>\n",
       "      <td>Card</td>\n",
       "      <td>814885</td>\n",
       "      <td>24701</td>\n",
       "    </tr>\n",
       "  </tbody>\n",
       "</table>\n",
       "</div>"
      ],
      "text/plain": [
       "   Customer ID  Transaction ID Date of Travel   Company        City  \\\n",
       "0        29290        10000011     2016-01-08  Pink Cab  ATLANTA GA   \n",
       "1        27703        10000012     2016-01-06  Pink Cab  ATLANTA GA   \n",
       "2        28712        10000013     2016-01-02  Pink Cab  ATLANTA GA   \n",
       "3        28020        10000014     2016-01-07  Pink Cab  ATLANTA GA   \n",
       "4        27182        10000015     2016-01-03  Pink Cab  ATLANTA GA   \n",
       "\n",
       "   KM Travelled  Price Charged  Cost of Trip Gender  Age  Income (USD/Month)  \\\n",
       "0         30.45         370.95       313.635   Male   28               10813   \n",
       "1         28.62         358.52       334.854   Male   27                9237   \n",
       "2          9.04         125.20        97.632   Male   53               11242   \n",
       "3         33.17         377.40       351.602   Male   23               23327   \n",
       "4          8.73         114.62        97.776   Male   33                8536   \n",
       "\n",
       "  Payment_Mode  Population  Users  \n",
       "0         Card      814885  24701  \n",
       "1         Card      814885  24701  \n",
       "2         Cash      814885  24701  \n",
       "3         Cash      814885  24701  \n",
       "4         Card      814885  24701  "
      ]
     },
     "execution_count": 43,
     "metadata": {},
     "output_type": "execute_result"
    }
   ],
   "source": [
    "data.head()"
   ]
  },
  {
   "cell_type": "markdown",
   "metadata": {},
   "source": [
    "#### Exploring the numeric and categorical features."
   ]
  },
  {
   "cell_type": "code",
   "execution_count": 44,
   "metadata": {},
   "outputs": [],
   "source": [
    "numeric_features = ['KM Travelled', 'Price Charged', 'Cost of Trip', 'Age', 'Income (USD/Month)', 'Population', 'Users']\n",
    "categorical_features = ['Company', 'City', 'Gender']"
   ]
  },
  {
   "cell_type": "code",
   "execution_count": 45,
   "metadata": {
    "scrolled": false
   },
   "outputs": [
    {
     "data": {
      "image/png": "[encoded data removed]",
      "text/plain": [
       "<Figure size 648x864 with 2 Axes>"
      ]
     },
     "metadata": {
      "needs_background": "light"
     },
     "output_type": "display_data"
    },
    {
     "data": {
      "image/png": "[encoded data removed]",
      "text/plain": [
       "<Figure size 648x864 with 2 Axes>"
      ]
     },
     "metadata": {
      "needs_background": "light"
     },
     "output_type": "display_data"
    },
    {
     "data": {
      "image/png": "[encoded data removed]",
      "text/plain": [
       "<Figure size 648x864 with 2 Axes>"
      ]
     },
     "metadata": {
      "needs_background": "light"
     },
     "output_type": "display_data"
    },
    {
     "data": {
      "image/png": "[encoded data removed]",
      "text/plain": [
       "<Figure size 648x864 with 2 Axes>"
      ]
     },
     "metadata": {
      "needs_background": "light"
     },
     "output_type": "display_data"
    },
    {
     "data": {
      "image/png": "[encoded data removed]",
      "text/plain": [
       "<Figure size 648x864 with 2 Axes>"
      ]
     },
     "metadata": {
      "needs_background": "light"
     },
     "output_type": "display_data"
    },
    {
     "data": {
      "image/png": "[encoded data removed]",
      "text/plain": [
       "<Figure size 648x864 with 2 Axes>"
      ]
     },
     "metadata": {
      "needs_background": "light"
     },
     "output_type": "display_data"
    },
    {
     "data": {
      "image/png": "[encoded data removed]",
      "text/plain": [
       "<Figure size 648x864 with 2 Axes>"
      ]
     },
     "metadata": {
      "needs_background": "light"
     },
     "output_type": "display_data"
    }
   ],
   "source": [
    "#Exploring the numeric features\n",
    "\n",
    "\n",
    "\n",
    "#Plot the histograms boxplots\n",
    "\n",
    "for col in numeric_features:\n",
    "    #Create a figure 2 subplots (2 rows, 1 column)\n",
    "    fig, ax = plt.subplots(2, 1, figsize = (9, 12))\n",
    "    feature = data[col]\n",
    "    ax[0].hist(feature, bins = 100, edgecolor = 'black')\n",
    "    ax[0].axvline(feature.mean(), color = 'magenta', linestyle = 'dashed', label = 'mean')\n",
    "    ax[0].axvline(feature.median(), color = 'cyan', linestyle = 'dashed', label = 'median')\n",
    "    ax[0].legend()\n",
    "    \n",
    "    ax[1].boxplot(feature, vert = False)\n",
    "    ax[1].set_xlabel(col)\n",
    "    \n",
    "    fig.suptitle('Data Distribution in column: ' + col)\n",
    "plt.show()\n",
    "\n"
   ]
  },
  {
   "cell_type": "markdown",
   "metadata": {},
   "source": [
    "The plots above tend to show the distribution of the data points in the numeric features. These distributions will help to provide an understanding of the kind of data that we have at hand. \n",
    "\n",
    "The datapoints in KM Travelled column are almost evenly spread out. With the mean and median lying almost on the same point, with no outliers present. \n",
    "\n",
    "The price charged column is right-skewed, with the mean greater than median and with lots of outliers as shown in the boxplot below the histogram. \n",
    "\n",
    "The cost of trip is also slightly skewed to the right, with no outliers.\n",
    "\n",
    "The distribution of the ages shows that cab rides are more popular among people of age 40 and below.\n",
    "\n",
    "The income column shows a distribution that suggests that people income above 25000 patronize cab rides less. \n"
   ]
  },
  {
   "cell_type": "code",
   "execution_count": null,
   "metadata": {},
   "outputs": [],
   "source": []
  },
  {
   "cell_type": "code",
   "execution_count": 46,
   "metadata": {},
   "outputs": [
    {
     "data": {
      "image/png": "[encoded data removed]",
      "text/plain": [
       "<Figure size 648x432 with 1 Axes>"
      ]
     },
     "metadata": {
      "needs_background": "light"
     },
     "output_type": "display_data"
    },
    {
     "data": {
      "image/png": "[encoded data removed]",
      "text/plain": [
       "<Figure size 648x432 with 1 Axes>"
      ]
     },
     "metadata": {
      "needs_background": "light"
     },
     "output_type": "display_data"
    },
    {
     "data": {
      "image/png": "[encoded data removed]",
      "text/plain": [
       "<Figure size 648x432 with 1 Axes>"
      ]
     },
     "metadata": {
      "needs_background": "light"
     },
     "output_type": "display_data"
    }
   ],
   "source": [
    "for col in categorical_features:\n",
    "    counts = data[col].value_counts().sort_values()\n",
    "    fig = plt.figure(figsize = (9, 6))\n",
    "    ax = fig.gca()\n",
    "    counts.plot.bar(ax = ax, color = 'steelblue')\n",
    "    ax.set_title(col + ' counts')\n",
    "    ax.set_xlabel(col)\n",
    "    ax.set_ylabel('Frequency')\n",
    "plt.show()"
   ]
  },
  {
   "cell_type": "markdown",
   "metadata": {},
   "source": [
    "Yellow cab had more rides than pink cab. Could this mean yellow cab is the riders' favorite, or it is just by random chance?\n",
    "\n",
    "More rides happened in the New York, Why? Could be that New York's population is far greater than the other cities so it had more rides. Or are there other factors?\n",
    "\n",
    "Cab rides are more common among males.\n",
    "\n",
    "\n",
    "\n",
    "These are the preliminary insights from the data"
   ]
  },
  {
   "cell_type": "markdown",
   "metadata": {},
   "source": [
    "#### Questions that can be asked of the data (Hypothesis)\n",
    "\n",
    "- Which month is the busiest for the cab companies?\n",
    "- Which days are popular among riders across the different cities?\n",
    "- Which cabs are more popular across the cities and among the age groups?\n",
    "- What are the profits of each company over the years?\n",
    "- Does the payment method have any influence on number of rides?\n",
    "- What are the number of users for each cap company across the time periods?\n",
    "- Does the income of the riders have an influence on cap rides?"
   ]
  },
  {
   "cell_type": "markdown",
   "metadata": {},
   "source": [
    "Grouping the customers into groups according to their age groups. "
   ]
  },
  {
   "cell_type": "code",
   "execution_count": 47,
   "metadata": {},
   "outputs": [
    {
     "name": "stdout",
     "output_type": "stream",
     "text": [
      "18\n"
     ]
    }
   ],
   "source": [
    "ages = data['Age']\n",
    "print(ages.min())"
   ]
  },
  {
   "cell_type": "code",
   "execution_count": 48,
   "metadata": {},
   "outputs": [
    {
     "name": "stdout",
     "output_type": "stream",
     "text": [
      "65\n"
     ]
    }
   ],
   "source": [
    "print(ages.max())"
   ]
  },
  {
   "cell_type": "code",
   "execution_count": 49,
   "metadata": {},
   "outputs": [],
   "source": [
    "#creating the bins of ages to group the customers\n",
    "bins = [0, 19, 29, 39, 49, 59, 69]\n",
    "labels = ['Teen', 'Young Adult', 'Middle Age', 'Middle Older Age', 'Senior', 'Old']\n",
    "data['Age Group'] = pd.cut(data['Age'], bins = bins, labels = labels)"
   ]
  },
  {
   "cell_type": "code",
   "execution_count": 50,
   "metadata": {},
   "outputs": [],
   "source": [
    "#Putting the year in a column\n",
    "data['Year'] = pd.DatetimeIndex(data['Date of Travel']).year"
   ]
  },
  {
   "cell_type": "code",
   "execution_count": 51,
   "metadata": {},
   "outputs": [
    {
     "data": {
      "text/html": [
       "<div>\n",
       "<style scoped>\n",
       "    .dataframe tbody tr th:only-of-type {\n",
       "        vertical-align: middle;\n",
       "    }\n",
       "\n",
       "    .dataframe tbody tr th {\n",
       "        vertical-align: top;\n",
       "    }\n",
       "\n",
       "    .dataframe thead th {\n",
       "        text-align: right;\n",
       "    }\n",
       "</style>\n",
       "<table border=\"1\" class=\"dataframe\">\n",
       "  <thead>\n",
       "    <tr style=\"text-align: right;\">\n",
       "      <th></th>\n",
       "      <th>Customer ID</th>\n",
       "      <th>Transaction ID</th>\n",
       "      <th>Date of Travel</th>\n",
       "      <th>Company</th>\n",
       "      <th>City</th>\n",
       "      <th>KM Travelled</th>\n",
       "      <th>Price Charged</th>\n",
       "      <th>Cost of Trip</th>\n",
       "      <th>Gender</th>\n",
       "      <th>Age</th>\n",
       "      <th>Income (USD/Month)</th>\n",
       "      <th>Payment_Mode</th>\n",
       "      <th>Population</th>\n",
       "      <th>Users</th>\n",
       "      <th>Age Group</th>\n",
       "      <th>Year</th>\n",
       "    </tr>\n",
       "  </thead>\n",
       "  <tbody>\n",
       "    <tr>\n",
       "      <th>0</th>\n",
       "      <td>29290</td>\n",
       "      <td>10000011</td>\n",
       "      <td>2016-01-08</td>\n",
       "      <td>Pink Cab</td>\n",
       "      <td>ATLANTA GA</td>\n",
       "      <td>30.45</td>\n",
       "      <td>370.95</td>\n",
       "      <td>313.635</td>\n",
       "      <td>Male</td>\n",
       "      <td>28</td>\n",
       "      <td>10813</td>\n",
       "      <td>Card</td>\n",
       "      <td>814885</td>\n",
       "      <td>24701</td>\n",
       "      <td>Young Adult</td>\n",
       "      <td>2016</td>\n",
       "    </tr>\n",
       "    <tr>\n",
       "      <th>1</th>\n",
       "      <td>27703</td>\n",
       "      <td>10000012</td>\n",
       "      <td>2016-01-06</td>\n",
       "      <td>Pink Cab</td>\n",
       "      <td>ATLANTA GA</td>\n",
       "      <td>28.62</td>\n",
       "      <td>358.52</td>\n",
       "      <td>334.854</td>\n",
       "      <td>Male</td>\n",
       "      <td>27</td>\n",
       "      <td>9237</td>\n",
       "      <td>Card</td>\n",
       "      <td>814885</td>\n",
       "      <td>24701</td>\n",
       "      <td>Young Adult</td>\n",
       "      <td>2016</td>\n",
       "    </tr>\n",
       "    <tr>\n",
       "      <th>2</th>\n",
       "      <td>28712</td>\n",
       "      <td>10000013</td>\n",
       "      <td>2016-01-02</td>\n",
       "      <td>Pink Cab</td>\n",
       "      <td>ATLANTA GA</td>\n",
       "      <td>9.04</td>\n",
       "      <td>125.20</td>\n",
       "      <td>97.632</td>\n",
       "      <td>Male</td>\n",
       "      <td>53</td>\n",
       "      <td>11242</td>\n",
       "      <td>Cash</td>\n",
       "      <td>814885</td>\n",
       "      <td>24701</td>\n",
       "      <td>Senior</td>\n",
       "      <td>2016</td>\n",
       "    </tr>\n",
       "    <tr>\n",
       "      <th>3</th>\n",
       "      <td>28020</td>\n",
       "      <td>10000014</td>\n",
       "      <td>2016-01-07</td>\n",
       "      <td>Pink Cab</td>\n",
       "      <td>ATLANTA GA</td>\n",
       "      <td>33.17</td>\n",
       "      <td>377.40</td>\n",
       "      <td>351.602</td>\n",
       "      <td>Male</td>\n",
       "      <td>23</td>\n",
       "      <td>23327</td>\n",
       "      <td>Cash</td>\n",
       "      <td>814885</td>\n",
       "      <td>24701</td>\n",
       "      <td>Young Adult</td>\n",
       "      <td>2016</td>\n",
       "    </tr>\n",
       "    <tr>\n",
       "      <th>4</th>\n",
       "      <td>27182</td>\n",
       "      <td>10000015</td>\n",
       "      <td>2016-01-03</td>\n",
       "      <td>Pink Cab</td>\n",
       "      <td>ATLANTA GA</td>\n",
       "      <td>8.73</td>\n",
       "      <td>114.62</td>\n",
       "      <td>97.776</td>\n",
       "      <td>Male</td>\n",
       "      <td>33</td>\n",
       "      <td>8536</td>\n",
       "      <td>Card</td>\n",
       "      <td>814885</td>\n",
       "      <td>24701</td>\n",
       "      <td>Middle Age</td>\n",
       "      <td>2016</td>\n",
       "    </tr>\n",
       "  </tbody>\n",
       "</table>\n",
       "</div>"
      ],
      "text/plain": [
       "   Customer ID  Transaction ID Date of Travel   Company        City  \\\n",
       "0        29290        10000011     2016-01-08  Pink Cab  ATLANTA GA   \n",
       "1        27703        10000012     2016-01-06  Pink Cab  ATLANTA GA   \n",
       "2        28712        10000013     2016-01-02  Pink Cab  ATLANTA GA   \n",
       "3        28020        10000014     2016-01-07  Pink Cab  ATLANTA GA   \n",
       "4        27182        10000015     2016-01-03  Pink Cab  ATLANTA GA   \n",
       "\n",
       "   KM Travelled  Price Charged  Cost of Trip Gender  Age  Income (USD/Month)  \\\n",
       "0         30.45         370.95       313.635   Male   28               10813   \n",
       "1         28.62         358.52       334.854   Male   27                9237   \n",
       "2          9.04         125.20        97.632   Male   53               11242   \n",
       "3         33.17         377.40       351.602   Male   23               23327   \n",
       "4          8.73         114.62        97.776   Male   33                8536   \n",
       "\n",
       "  Payment_Mode  Population  Users    Age Group  Year  \n",
       "0         Card      814885  24701  Young Adult  2016  \n",
       "1         Card      814885  24701  Young Adult  2016  \n",
       "2         Cash      814885  24701       Senior  2016  \n",
       "3         Cash      814885  24701  Young Adult  2016  \n",
       "4         Card      814885  24701   Middle Age  2016  "
      ]
     },
     "execution_count": 51,
     "metadata": {},
     "output_type": "execute_result"
    }
   ],
   "source": [
    "data.head()"
   ]
  },
  {
   "cell_type": "code",
   "execution_count": 52,
   "metadata": {},
   "outputs": [],
   "source": [
    "data['Month'] = pd.DatetimeIndex(data['Date of Travel']).month"
   ]
  },
  {
   "cell_type": "code",
   "execution_count": 53,
   "metadata": {},
   "outputs": [
    {
     "data": {
      "text/html": [
       "<div>\n",
       "<style scoped>\n",
       "    .dataframe tbody tr th:only-of-type {\n",
       "        vertical-align: middle;\n",
       "    }\n",
       "\n",
       "    .dataframe tbody tr th {\n",
       "        vertical-align: top;\n",
       "    }\n",
       "\n",
       "    .dataframe thead th {\n",
       "        text-align: right;\n",
       "    }\n",
       "</style>\n",
       "<table border=\"1\" class=\"dataframe\">\n",
       "  <thead>\n",
       "    <tr style=\"text-align: right;\">\n",
       "      <th></th>\n",
       "      <th>Customer ID</th>\n",
       "      <th>Transaction ID</th>\n",
       "      <th>Date of Travel</th>\n",
       "      <th>Company</th>\n",
       "      <th>City</th>\n",
       "      <th>KM Travelled</th>\n",
       "      <th>Price Charged</th>\n",
       "      <th>Cost of Trip</th>\n",
       "      <th>Gender</th>\n",
       "      <th>Age</th>\n",
       "      <th>Income (USD/Month)</th>\n",
       "      <th>Payment_Mode</th>\n",
       "      <th>Population</th>\n",
       "      <th>Users</th>\n",
       "      <th>Age Group</th>\n",
       "      <th>Year</th>\n",
       "      <th>Month</th>\n",
       "    </tr>\n",
       "  </thead>\n",
       "  <tbody>\n",
       "    <tr>\n",
       "      <th>282205</th>\n",
       "      <td>18723</td>\n",
       "      <td>10116873</td>\n",
       "      <td>2016-12-09</td>\n",
       "      <td>Pink Cab</td>\n",
       "      <td>SAN DIEGO CA</td>\n",
       "      <td>31.59</td>\n",
       "      <td>455.28</td>\n",
       "      <td>350.6490</td>\n",
       "      <td>Male</td>\n",
       "      <td>27</td>\n",
       "      <td>20587</td>\n",
       "      <td>Cash</td>\n",
       "      <td>959307</td>\n",
       "      <td>69995</td>\n",
       "      <td>Young Adult</td>\n",
       "      <td>2016</td>\n",
       "      <td>12</td>\n",
       "    </tr>\n",
       "    <tr>\n",
       "      <th>14215</th>\n",
       "      <td>57431</td>\n",
       "      <td>10022637</td>\n",
       "      <td>2016-04-11</td>\n",
       "      <td>Yellow Cab</td>\n",
       "      <td>BOSTON MA</td>\n",
       "      <td>29.40</td>\n",
       "      <td>501.40</td>\n",
       "      <td>359.8560</td>\n",
       "      <td>Male</td>\n",
       "      <td>19</td>\n",
       "      <td>7748</td>\n",
       "      <td>Cash</td>\n",
       "      <td>248968</td>\n",
       "      <td>80021</td>\n",
       "      <td>Teen</td>\n",
       "      <td>2016</td>\n",
       "      <td>4</td>\n",
       "    </tr>\n",
       "    <tr>\n",
       "      <th>212799</th>\n",
       "      <td>889</td>\n",
       "      <td>10210999</td>\n",
       "      <td>2017-08-18</td>\n",
       "      <td>Yellow Cab</td>\n",
       "      <td>NEW YORK NY</td>\n",
       "      <td>36.30</td>\n",
       "      <td>936.40</td>\n",
       "      <td>522.7200</td>\n",
       "      <td>Female</td>\n",
       "      <td>29</td>\n",
       "      <td>2412</td>\n",
       "      <td>Card</td>\n",
       "      <td>8405837</td>\n",
       "      <td>302149</td>\n",
       "      <td>Young Adult</td>\n",
       "      <td>2017</td>\n",
       "      <td>8</td>\n",
       "    </tr>\n",
       "    <tr>\n",
       "      <th>89332</th>\n",
       "      <td>4018</td>\n",
       "      <td>10361610</td>\n",
       "      <td>2018-08-18</td>\n",
       "      <td>Pink Cab</td>\n",
       "      <td>CHICAGO IL</td>\n",
       "      <td>9.72</td>\n",
       "      <td>122.40</td>\n",
       "      <td>113.7240</td>\n",
       "      <td>Male</td>\n",
       "      <td>22</td>\n",
       "      <td>34193</td>\n",
       "      <td>Card</td>\n",
       "      <td>1955130</td>\n",
       "      <td>164468</td>\n",
       "      <td>Young Adult</td>\n",
       "      <td>2018</td>\n",
       "      <td>8</td>\n",
       "    </tr>\n",
       "    <tr>\n",
       "      <th>288504</th>\n",
       "      <td>19716</td>\n",
       "      <td>10249580</td>\n",
       "      <td>2017-10-29</td>\n",
       "      <td>Pink Cab</td>\n",
       "      <td>SAN DIEGO CA</td>\n",
       "      <td>11.55</td>\n",
       "      <td>162.77</td>\n",
       "      <td>117.8100</td>\n",
       "      <td>Female</td>\n",
       "      <td>47</td>\n",
       "      <td>3612</td>\n",
       "      <td>Card</td>\n",
       "      <td>959307</td>\n",
       "      <td>69995</td>\n",
       "      <td>Middle Older Age</td>\n",
       "      <td>2017</td>\n",
       "      <td>10</td>\n",
       "    </tr>\n",
       "    <tr>\n",
       "      <th>191871</th>\n",
       "      <td>190</td>\n",
       "      <td>10114680</td>\n",
       "      <td>2016-11-26</td>\n",
       "      <td>Yellow Cab</td>\n",
       "      <td>NEW YORK NY</td>\n",
       "      <td>29.10</td>\n",
       "      <td>985.14</td>\n",
       "      <td>380.6280</td>\n",
       "      <td>Male</td>\n",
       "      <td>22</td>\n",
       "      <td>15891</td>\n",
       "      <td>Cash</td>\n",
       "      <td>8405837</td>\n",
       "      <td>302149</td>\n",
       "      <td>Young Adult</td>\n",
       "      <td>2016</td>\n",
       "      <td>11</td>\n",
       "    </tr>\n",
       "    <tr>\n",
       "      <th>249889</th>\n",
       "      <td>1832</td>\n",
       "      <td>10373257</td>\n",
       "      <td>2018-09-08</td>\n",
       "      <td>Yellow Cab</td>\n",
       "      <td>NEW YORK NY</td>\n",
       "      <td>8.48</td>\n",
       "      <td>218.19</td>\n",
       "      <td>117.0240</td>\n",
       "      <td>Female</td>\n",
       "      <td>37</td>\n",
       "      <td>2282</td>\n",
       "      <td>Cash</td>\n",
       "      <td>8405837</td>\n",
       "      <td>302149</td>\n",
       "      <td>Middle Age</td>\n",
       "      <td>2018</td>\n",
       "      <td>9</td>\n",
       "    </tr>\n",
       "    <tr>\n",
       "      <th>295541</th>\n",
       "      <td>20152</td>\n",
       "      <td>10402650</td>\n",
       "      <td>2018-11-03</td>\n",
       "      <td>Yellow Cab</td>\n",
       "      <td>SAN DIEGO CA</td>\n",
       "      <td>29.68</td>\n",
       "      <td>610.67</td>\n",
       "      <td>420.2688</td>\n",
       "      <td>Male</td>\n",
       "      <td>22</td>\n",
       "      <td>31920</td>\n",
       "      <td>Cash</td>\n",
       "      <td>959307</td>\n",
       "      <td>69995</td>\n",
       "      <td>Young Adult</td>\n",
       "      <td>2018</td>\n",
       "      <td>11</td>\n",
       "    </tr>\n",
       "    <tr>\n",
       "      <th>35300</th>\n",
       "      <td>57442</td>\n",
       "      <td>10331837</td>\n",
       "      <td>2018-05-23</td>\n",
       "      <td>Yellow Cab</td>\n",
       "      <td>BOSTON MA</td>\n",
       "      <td>42.00</td>\n",
       "      <td>739.10</td>\n",
       "      <td>594.7200</td>\n",
       "      <td>Male</td>\n",
       "      <td>23</td>\n",
       "      <td>17291</td>\n",
       "      <td>Card</td>\n",
       "      <td>248968</td>\n",
       "      <td>80021</td>\n",
       "      <td>Young Adult</td>\n",
       "      <td>2018</td>\n",
       "      <td>5</td>\n",
       "    </tr>\n",
       "    <tr>\n",
       "      <th>70214</th>\n",
       "      <td>3472</td>\n",
       "      <td>10213182</td>\n",
       "      <td>2017-08-20</td>\n",
       "      <td>Yellow Cab</td>\n",
       "      <td>CHICAGO IL</td>\n",
       "      <td>24.70</td>\n",
       "      <td>460.98</td>\n",
       "      <td>340.8600</td>\n",
       "      <td>Male</td>\n",
       "      <td>32</td>\n",
       "      <td>23776</td>\n",
       "      <td>Card</td>\n",
       "      <td>1955130</td>\n",
       "      <td>164468</td>\n",
       "      <td>Middle Age</td>\n",
       "      <td>2017</td>\n",
       "      <td>8</td>\n",
       "    </tr>\n",
       "  </tbody>\n",
       "</table>\n",
       "</div>"
      ],
      "text/plain": [
       "        Customer ID  Transaction ID Date of Travel     Company          City  \\\n",
       "282205        18723        10116873     2016-12-09    Pink Cab  SAN DIEGO CA   \n",
       "14215         57431        10022637     2016-04-11  Yellow Cab     BOSTON MA   \n",
       "212799          889        10210999     2017-08-18  Yellow Cab   NEW YORK NY   \n",
       "89332          4018        10361610     2018-08-18    Pink Cab    CHICAGO IL   \n",
       "288504        19716        10249580     2017-10-29    Pink Cab  SAN DIEGO CA   \n",
       "191871          190        10114680     2016-11-26  Yellow Cab   NEW YORK NY   \n",
       "249889         1832        10373257     2018-09-08  Yellow Cab   NEW YORK NY   \n",
       "295541        20152        10402650     2018-11-03  Yellow Cab  SAN DIEGO CA   \n",
       "35300         57442        10331837     2018-05-23  Yellow Cab     BOSTON MA   \n",
       "70214          3472        10213182     2017-08-20  Yellow Cab    CHICAGO IL   \n",
       "\n",
       "        KM Travelled  Price Charged  Cost of Trip  Gender  Age  \\\n",
       "282205         31.59         455.28      350.6490    Male   27   \n",
       "14215          29.40         501.40      359.8560    Male   19   \n",
       "212799         36.30         936.40      522.7200  Female   29   \n",
       "89332           9.72         122.40      113.7240    Male   22   \n",
       "288504         11.55         162.77      117.8100  Female   47   \n",
       "191871         29.10         985.14      380.6280    Male   22   \n",
       "249889          8.48         218.19      117.0240  Female   37   \n",
       "295541         29.68         610.67      420.2688    Male   22   \n",
       "35300          42.00         739.10      594.7200    Male   23   \n",
       "70214          24.70         460.98      340.8600    Male   32   \n",
       "\n",
       "        Income (USD/Month) Payment_Mode  Population   Users         Age Group  \\\n",
       "282205               20587         Cash      959307   69995       Young Adult   \n",
       "14215                 7748         Cash      248968   80021              Teen   \n",
       "212799                2412         Card     8405837  302149       Young Adult   \n",
       "89332                34193         Card     1955130  164468       Young Adult   \n",
       "288504                3612         Card      959307   69995  Middle Older Age   \n",
       "191871               15891         Cash     8405837  302149       Young Adult   \n",
       "249889                2282         Cash     8405837  302149        Middle Age   \n",
       "295541               31920         Cash      959307   69995       Young Adult   \n",
       "35300                17291         Card      248968   80021       Young Adult   \n",
       "70214                23776         Card     1955130  164468        Middle Age   \n",
       "\n",
       "        Year  Month  \n",
       "282205  2016     12  \n",
       "14215   2016      4  \n",
       "212799  2017      8  \n",
       "89332   2018      8  \n",
       "288504  2017     10  \n",
       "191871  2016     11  \n",
       "249889  2018      9  \n",
       "295541  2018     11  \n",
       "35300   2018      5  \n",
       "70214   2017      8  "
      ]
     },
     "execution_count": 53,
     "metadata": {},
     "output_type": "execute_result"
    }
   ],
   "source": [
    "data.sample(10)"
   ]
  },
  {
   "cell_type": "code",
   "execution_count": 54,
   "metadata": {},
   "outputs": [
    {
     "data": {
      "text/html": [
       "<div>\n",
       "<style scoped>\n",
       "    .dataframe tbody tr th:only-of-type {\n",
       "        vertical-align: middle;\n",
       "    }\n",
       "\n",
       "    .dataframe tbody tr th {\n",
       "        vertical-align: top;\n",
       "    }\n",
       "\n",
       "    .dataframe thead th {\n",
       "        text-align: right;\n",
       "    }\n",
       "</style>\n",
       "<table border=\"1\" class=\"dataframe\">\n",
       "  <thead>\n",
       "    <tr style=\"text-align: right;\">\n",
       "      <th></th>\n",
       "      <th>Customer ID</th>\n",
       "      <th>Transaction ID</th>\n",
       "      <th>Date of Travel</th>\n",
       "      <th>Company</th>\n",
       "      <th>City</th>\n",
       "      <th>KM Travelled</th>\n",
       "      <th>Price Charged</th>\n",
       "      <th>Cost of Trip</th>\n",
       "      <th>Gender</th>\n",
       "      <th>Age</th>\n",
       "      <th>Income (USD/Month)</th>\n",
       "      <th>Payment_Mode</th>\n",
       "      <th>Population</th>\n",
       "      <th>Users</th>\n",
       "      <th>Age Group</th>\n",
       "      <th>Year</th>\n",
       "      <th>Month</th>\n",
       "    </tr>\n",
       "  </thead>\n",
       "  <tbody>\n",
       "    <tr>\n",
       "      <th>167158</th>\n",
       "      <td>1022</td>\n",
       "      <td>10000832</td>\n",
       "      <td>2016-01-02</td>\n",
       "      <td>Yellow Cab</td>\n",
       "      <td>NEW YORK NY</td>\n",
       "      <td>29.29</td>\n",
       "      <td>907.43</td>\n",
       "      <td>369.0540</td>\n",
       "      <td>Male</td>\n",
       "      <td>20</td>\n",
       "      <td>22359</td>\n",
       "      <td>Card</td>\n",
       "      <td>8405837</td>\n",
       "      <td>302149</td>\n",
       "      <td>Young Adult</td>\n",
       "      <td>2016</td>\n",
       "      <td>1</td>\n",
       "    </tr>\n",
       "    <tr>\n",
       "      <th>98794</th>\n",
       "      <td>25154</td>\n",
       "      <td>10000670</td>\n",
       "      <td>2016-01-02</td>\n",
       "      <td>Yellow Cab</td>\n",
       "      <td>DALLAS TX</td>\n",
       "      <td>20.90</td>\n",
       "      <td>619.66</td>\n",
       "      <td>258.3240</td>\n",
       "      <td>Male</td>\n",
       "      <td>18</td>\n",
       "      <td>7806</td>\n",
       "      <td>Cash</td>\n",
       "      <td>942908</td>\n",
       "      <td>22157</td>\n",
       "      <td>Teen</td>\n",
       "      <td>2016</td>\n",
       "      <td>1</td>\n",
       "    </tr>\n",
       "    <tr>\n",
       "      <th>297239</th>\n",
       "      <td>38146</td>\n",
       "      <td>10001234</td>\n",
       "      <td>2016-01-02</td>\n",
       "      <td>Yellow Cab</td>\n",
       "      <td>SEATTLE WA</td>\n",
       "      <td>39.60</td>\n",
       "      <td>1119.67</td>\n",
       "      <td>541.7280</td>\n",
       "      <td>Male</td>\n",
       "      <td>36</td>\n",
       "      <td>6577</td>\n",
       "      <td>Cash</td>\n",
       "      <td>671238</td>\n",
       "      <td>25063</td>\n",
       "      <td>Middle Age</td>\n",
       "      <td>2016</td>\n",
       "      <td>1</td>\n",
       "    </tr>\n",
       "    <tr>\n",
       "      <th>167171</th>\n",
       "      <td>9</td>\n",
       "      <td>10000845</td>\n",
       "      <td>2016-01-02</td>\n",
       "      <td>Yellow Cab</td>\n",
       "      <td>NEW YORK NY</td>\n",
       "      <td>17.92</td>\n",
       "      <td>561.71</td>\n",
       "      <td>253.7472</td>\n",
       "      <td>Male</td>\n",
       "      <td>32</td>\n",
       "      <td>21212</td>\n",
       "      <td>Card</td>\n",
       "      <td>8405837</td>\n",
       "      <td>302149</td>\n",
       "      <td>Middle Age</td>\n",
       "      <td>2016</td>\n",
       "      <td>1</td>\n",
       "    </tr>\n",
       "    <tr>\n",
       "      <th>297237</th>\n",
       "      <td>37393</td>\n",
       "      <td>10001232</td>\n",
       "      <td>2016-01-02</td>\n",
       "      <td>Yellow Cab</td>\n",
       "      <td>SEATTLE WA</td>\n",
       "      <td>16.24</td>\n",
       "      <td>540.27</td>\n",
       "      <td>210.4704</td>\n",
       "      <td>Male</td>\n",
       "      <td>18</td>\n",
       "      <td>22205</td>\n",
       "      <td>Card</td>\n",
       "      <td>671238</td>\n",
       "      <td>25063</td>\n",
       "      <td>Teen</td>\n",
       "      <td>2016</td>\n",
       "      <td>1</td>\n",
       "    </tr>\n",
       "  </tbody>\n",
       "</table>\n",
       "</div>"
      ],
      "text/plain": [
       "        Customer ID  Transaction ID Date of Travel     Company         City  \\\n",
       "167158         1022        10000832     2016-01-02  Yellow Cab  NEW YORK NY   \n",
       "98794         25154        10000670     2016-01-02  Yellow Cab    DALLAS TX   \n",
       "297239        38146        10001234     2016-01-02  Yellow Cab   SEATTLE WA   \n",
       "167171            9        10000845     2016-01-02  Yellow Cab  NEW YORK NY   \n",
       "297237        37393        10001232     2016-01-02  Yellow Cab   SEATTLE WA   \n",
       "\n",
       "        KM Travelled  Price Charged  Cost of Trip Gender  Age  \\\n",
       "167158         29.29         907.43      369.0540   Male   20   \n",
       "98794          20.90         619.66      258.3240   Male   18   \n",
       "297239         39.60        1119.67      541.7280   Male   36   \n",
       "167171         17.92         561.71      253.7472   Male   32   \n",
       "297237         16.24         540.27      210.4704   Male   18   \n",
       "\n",
       "        Income (USD/Month) Payment_Mode  Population   Users    Age Group  \\\n",
       "167158               22359         Card     8405837  302149  Young Adult   \n",
       "98794                 7806         Cash      942908   22157         Teen   \n",
       "297239                6577         Cash      671238   25063   Middle Age   \n",
       "167171               21212         Card     8405837  302149   Middle Age   \n",
       "297237               22205         Card      671238   25063         Teen   \n",
       "\n",
       "        Year  Month  \n",
       "167158  2016      1  \n",
       "98794   2016      1  \n",
       "297239  2016      1  \n",
       "167171  2016      1  \n",
       "297237  2016      1  "
      ]
     },
     "execution_count": 54,
     "metadata": {},
     "output_type": "execute_result"
    }
   ],
   "source": [
    "data = data.sort_values(by = 'Date of Travel', ascending = True)\n",
    "data.head()"
   ]
  },
  {
   "cell_type": "code",
   "execution_count": 55,
   "metadata": {},
   "outputs": [],
   "source": [
    "#months_dict = {1: 'January', 2: 'February', 3: 'March', 4: 'April', 5: 'May', 6: 'June', 7: 'July', 8: 'August', 9: 'September', 10: 'October', 11: 'November', 12: 'December'}\n",
    "#data['Month'] = data['Month'].map(months_dict)"
   ]
  },
  {
   "cell_type": "code",
   "execution_count": 56,
   "metadata": {},
   "outputs": [
    {
     "data": {
      "text/html": [
       "<div>\n",
       "<style scoped>\n",
       "    .dataframe tbody tr th:only-of-type {\n",
       "        vertical-align: middle;\n",
       "    }\n",
       "\n",
       "    .dataframe tbody tr th {\n",
       "        vertical-align: top;\n",
       "    }\n",
       "\n",
       "    .dataframe thead th {\n",
       "        text-align: right;\n",
       "    }\n",
       "</style>\n",
       "<table border=\"1\" class=\"dataframe\">\n",
       "  <thead>\n",
       "    <tr style=\"text-align: right;\">\n",
       "      <th></th>\n",
       "      <th>Customer ID</th>\n",
       "      <th>Transaction ID</th>\n",
       "      <th>Date of Travel</th>\n",
       "      <th>Company</th>\n",
       "      <th>City</th>\n",
       "      <th>KM Travelled</th>\n",
       "      <th>Price Charged</th>\n",
       "      <th>Cost of Trip</th>\n",
       "      <th>Gender</th>\n",
       "      <th>Age</th>\n",
       "      <th>Income (USD/Month)</th>\n",
       "      <th>Payment_Mode</th>\n",
       "      <th>Population</th>\n",
       "      <th>Users</th>\n",
       "      <th>Age Group</th>\n",
       "      <th>Year</th>\n",
       "      <th>Month</th>\n",
       "    </tr>\n",
       "  </thead>\n",
       "  <tbody>\n",
       "    <tr>\n",
       "      <th>325585</th>\n",
       "      <td>53797</td>\n",
       "      <td>10094988</td>\n",
       "      <td>2016-10-19</td>\n",
       "      <td>Yellow Cab</td>\n",
       "      <td>WASHINGTON DC</td>\n",
       "      <td>10.26</td>\n",
       "      <td>147.24</td>\n",
       "      <td>142.8192</td>\n",
       "      <td>Male</td>\n",
       "      <td>22</td>\n",
       "      <td>16273</td>\n",
       "      <td>Card</td>\n",
       "      <td>418859</td>\n",
       "      <td>127001</td>\n",
       "      <td>Young Adult</td>\n",
       "      <td>2016</td>\n",
       "      <td>10</td>\n",
       "    </tr>\n",
       "    <tr>\n",
       "      <th>231047</th>\n",
       "      <td>2337</td>\n",
       "      <td>10282466</td>\n",
       "      <td>2017-12-21</td>\n",
       "      <td>Yellow Cab</td>\n",
       "      <td>NEW YORK NY</td>\n",
       "      <td>35.15</td>\n",
       "      <td>884.93</td>\n",
       "      <td>438.6720</td>\n",
       "      <td>Male</td>\n",
       "      <td>26</td>\n",
       "      <td>18425</td>\n",
       "      <td>Cash</td>\n",
       "      <td>8405837</td>\n",
       "      <td>302149</td>\n",
       "      <td>Young Adult</td>\n",
       "      <td>2017</td>\n",
       "      <td>12</td>\n",
       "    </tr>\n",
       "    <tr>\n",
       "      <th>74895</th>\n",
       "      <td>4359</td>\n",
       "      <td>10250674</td>\n",
       "      <td>2017-11-06</td>\n",
       "      <td>Yellow Cab</td>\n",
       "      <td>CHICAGO IL</td>\n",
       "      <td>25.20</td>\n",
       "      <td>395.38</td>\n",
       "      <td>326.5920</td>\n",
       "      <td>Male</td>\n",
       "      <td>31</td>\n",
       "      <td>12357</td>\n",
       "      <td>Card</td>\n",
       "      <td>1955130</td>\n",
       "      <td>164468</td>\n",
       "      <td>Middle Age</td>\n",
       "      <td>2017</td>\n",
       "      <td>11</td>\n",
       "    </tr>\n",
       "    <tr>\n",
       "      <th>254644</th>\n",
       "      <td>1345</td>\n",
       "      <td>10394083</td>\n",
       "      <td>2018-10-19</td>\n",
       "      <td>Yellow Cab</td>\n",
       "      <td>NEW YORK NY</td>\n",
       "      <td>13.08</td>\n",
       "      <td>331.05</td>\n",
       "      <td>163.2384</td>\n",
       "      <td>Female</td>\n",
       "      <td>36</td>\n",
       "      <td>15432</td>\n",
       "      <td>Cash</td>\n",
       "      <td>8405837</td>\n",
       "      <td>302149</td>\n",
       "      <td>Middle Age</td>\n",
       "      <td>2018</td>\n",
       "      <td>10</td>\n",
       "    </tr>\n",
       "    <tr>\n",
       "      <th>48663</th>\n",
       "      <td>5010</td>\n",
       "      <td>10047087</td>\n",
       "      <td>2016-06-30</td>\n",
       "      <td>Pink Cab</td>\n",
       "      <td>CHICAGO IL</td>\n",
       "      <td>26.19</td>\n",
       "      <td>355.23</td>\n",
       "      <td>306.4230</td>\n",
       "      <td>Male</td>\n",
       "      <td>36</td>\n",
       "      <td>11711</td>\n",
       "      <td>Cash</td>\n",
       "      <td>1955130</td>\n",
       "      <td>164468</td>\n",
       "      <td>Middle Age</td>\n",
       "      <td>2016</td>\n",
       "      <td>6</td>\n",
       "    </tr>\n",
       "    <tr>\n",
       "      <th>247448</th>\n",
       "      <td>272</td>\n",
       "      <td>10363519</td>\n",
       "      <td>2018-08-17</td>\n",
       "      <td>Yellow Cab</td>\n",
       "      <td>NEW YORK NY</td>\n",
       "      <td>35.96</td>\n",
       "      <td>893.10</td>\n",
       "      <td>444.4656</td>\n",
       "      <td>Female</td>\n",
       "      <td>36</td>\n",
       "      <td>20511</td>\n",
       "      <td>Card</td>\n",
       "      <td>8405837</td>\n",
       "      <td>302149</td>\n",
       "      <td>Middle Age</td>\n",
       "      <td>2018</td>\n",
       "      <td>8</td>\n",
       "    </tr>\n",
       "    <tr>\n",
       "      <th>48427</th>\n",
       "      <td>5838</td>\n",
       "      <td>10044996</td>\n",
       "      <td>2016-06-23</td>\n",
       "      <td>Pink Cab</td>\n",
       "      <td>CHICAGO IL</td>\n",
       "      <td>19.38</td>\n",
       "      <td>193.39</td>\n",
       "      <td>199.6140</td>\n",
       "      <td>Female</td>\n",
       "      <td>32</td>\n",
       "      <td>4682</td>\n",
       "      <td>Cash</td>\n",
       "      <td>1955130</td>\n",
       "      <td>164468</td>\n",
       "      <td>Middle Age</td>\n",
       "      <td>2016</td>\n",
       "      <td>6</td>\n",
       "    </tr>\n",
       "    <tr>\n",
       "      <th>215642</th>\n",
       "      <td>394</td>\n",
       "      <td>10224184</td>\n",
       "      <td>2017-09-17</td>\n",
       "      <td>Yellow Cab</td>\n",
       "      <td>NEW YORK NY</td>\n",
       "      <td>20.90</td>\n",
       "      <td>519.11</td>\n",
       "      <td>283.4040</td>\n",
       "      <td>Female</td>\n",
       "      <td>41</td>\n",
       "      <td>15818</td>\n",
       "      <td>Cash</td>\n",
       "      <td>8405837</td>\n",
       "      <td>302149</td>\n",
       "      <td>Middle Older Age</td>\n",
       "      <td>2017</td>\n",
       "      <td>9</td>\n",
       "    </tr>\n",
       "    <tr>\n",
       "      <th>258125</th>\n",
       "      <td>2781</td>\n",
       "      <td>10406307</td>\n",
       "      <td>2018-11-09</td>\n",
       "      <td>Yellow Cab</td>\n",
       "      <td>NEW YORK NY</td>\n",
       "      <td>33.28</td>\n",
       "      <td>841.70</td>\n",
       "      <td>443.2896</td>\n",
       "      <td>Male</td>\n",
       "      <td>36</td>\n",
       "      <td>2375</td>\n",
       "      <td>Card</td>\n",
       "      <td>8405837</td>\n",
       "      <td>302149</td>\n",
       "      <td>Middle Age</td>\n",
       "      <td>2018</td>\n",
       "      <td>11</td>\n",
       "    </tr>\n",
       "    <tr>\n",
       "      <th>256597</th>\n",
       "      <td>815</td>\n",
       "      <td>10401784</td>\n",
       "      <td>2018-11-02</td>\n",
       "      <td>Yellow Cab</td>\n",
       "      <td>NEW YORK NY</td>\n",
       "      <td>28.00</td>\n",
       "      <td>592.99</td>\n",
       "      <td>342.7200</td>\n",
       "      <td>Male</td>\n",
       "      <td>18</td>\n",
       "      <td>9253</td>\n",
       "      <td>Card</td>\n",
       "      <td>8405837</td>\n",
       "      <td>302149</td>\n",
       "      <td>Teen</td>\n",
       "      <td>2018</td>\n",
       "      <td>11</td>\n",
       "    </tr>\n",
       "  </tbody>\n",
       "</table>\n",
       "</div>"
      ],
      "text/plain": [
       "        Customer ID  Transaction ID Date of Travel     Company           City  \\\n",
       "325585        53797        10094988     2016-10-19  Yellow Cab  WASHINGTON DC   \n",
       "231047         2337        10282466     2017-12-21  Yellow Cab    NEW YORK NY   \n",
       "74895          4359        10250674     2017-11-06  Yellow Cab     CHICAGO IL   \n",
       "254644         1345        10394083     2018-10-19  Yellow Cab    NEW YORK NY   \n",
       "48663          5010        10047087     2016-06-30    Pink Cab     CHICAGO IL   \n",
       "247448          272        10363519     2018-08-17  Yellow Cab    NEW YORK NY   \n",
       "48427          5838        10044996     2016-06-23    Pink Cab     CHICAGO IL   \n",
       "215642          394        10224184     2017-09-17  Yellow Cab    NEW YORK NY   \n",
       "258125         2781        10406307     2018-11-09  Yellow Cab    NEW YORK NY   \n",
       "256597          815        10401784     2018-11-02  Yellow Cab    NEW YORK NY   \n",
       "\n",
       "        KM Travelled  Price Charged  Cost of Trip  Gender  Age  \\\n",
       "325585         10.26         147.24      142.8192    Male   22   \n",
       "231047         35.15         884.93      438.6720    Male   26   \n",
       "74895          25.20         395.38      326.5920    Male   31   \n",
       "254644         13.08         331.05      163.2384  Female   36   \n",
       "48663          26.19         355.23      306.4230    Male   36   \n",
       "247448         35.96         893.10      444.4656  Female   36   \n",
       "48427          19.38         193.39      199.6140  Female   32   \n",
       "215642         20.90         519.11      283.4040  Female   41   \n",
       "258125         33.28         841.70      443.2896    Male   36   \n",
       "256597         28.00         592.99      342.7200    Male   18   \n",
       "\n",
       "        Income (USD/Month) Payment_Mode  Population   Users         Age Group  \\\n",
       "325585               16273         Card      418859  127001       Young Adult   \n",
       "231047               18425         Cash     8405837  302149       Young Adult   \n",
       "74895                12357         Card     1955130  164468        Middle Age   \n",
       "254644               15432         Cash     8405837  302149        Middle Age   \n",
       "48663                11711         Cash     1955130  164468        Middle Age   \n",
       "247448               20511         Card     8405837  302149        Middle Age   \n",
       "48427                 4682         Cash     1955130  164468        Middle Age   \n",
       "215642               15818         Cash     8405837  302149  Middle Older Age   \n",
       "258125                2375         Card     8405837  302149        Middle Age   \n",
       "256597                9253         Card     8405837  302149              Teen   \n",
       "\n",
       "        Year  Month  \n",
       "325585  2016     10  \n",
       "231047  2017     12  \n",
       "74895   2017     11  \n",
       "254644  2018     10  \n",
       "48663   2016      6  \n",
       "247448  2018      8  \n",
       "48427   2016      6  \n",
       "215642  2017      9  \n",
       "258125  2018     11  \n",
       "256597  2018     11  "
      ]
     },
     "execution_count": 56,
     "metadata": {},
     "output_type": "execute_result"
    }
   ],
   "source": [
    "data.sample(10)"
   ]
  },
  {
   "cell_type": "code",
   "execution_count": 57,
   "metadata": {},
   "outputs": [],
   "source": [
    "#count_per_month_yc.index = ['January', 'February', 'March', 'April', 'May', 'June', 'July', 'August', 'September', 'October', 'November', 'December']"
   ]
  },
  {
   "cell_type": "code",
   "execution_count": 62,
   "metadata": {},
   "outputs": [],
   "source": [
    "#Function to plot number of rides for each company in a given year\n",
    "\n",
    "\n",
    "def number_of_rides_plotter(df, year, company1, company2):\n",
    "    \"\"\"Function to plot number of rides over the given year for a cab company\"\"\"\n",
    "    data = df[df['Year'] == year]\n",
    "    company1_data = data[data['Company'] == company1]\n",
    "    company2_data = data[data['Company'] == company2]\n",
    "    count_per_month_yc1 = company1_data.groupby('Month')['Transaction ID'].count()\n",
    "    count_per_month_yc2 = company2_data.groupby('Month')['Transaction ID'].count()\n",
    "    \n",
    "    \n",
    "    count_per_month_yc1.index = ['January', 'February', 'March', 'April', 'May', 'June', 'July', 'August', \n",
    "                                 'September', 'October', 'November', 'December']\n",
    "    count_per_month_yc2.index = ['January', 'February', 'March', 'April', 'May', 'June', 'July', 'August', \n",
    "                                 'September', 'October', 'November', 'December']\n",
    "    fig = plt.figure(figsize = (12, 9))\n",
    "    plt.style.use('ggplot')\n",
    "    plt.plot(count_per_month_yc1, color = 'yellow', linewidth = 2, label = company1)\n",
    "    plt.plot(count_per_month_yc2, color = 'pink', linewidth = 2, label = company2)\n",
    "    plt.title('Number of Rides for ' + company1 + ' and ' + company2 + ' in ' + str(year))\n",
    "    plt.ylabel('Number of Rides')\n",
    "    plt.xlabel('Month')\n",
    "    plt.legend()\n",
    "    plt.xticks(rotation = 45)\n",
    "    plt.show()\n",
    "    "
   ]
  },
  {
   "cell_type": "code",
   "execution_count": 63,
   "metadata": {},
   "outputs": [
    {
     "data": {
      "image/png": "[encoded data removed]",
      "text/plain": [
       "<Figure size 864x648 with 1 Axes>"
      ]
     },
     "metadata": {},
     "output_type": "display_data"
    }
   ],
   "source": [
    "number_of_rides_plotter(data, 2016, 'Yellow Cab', 'Pink Cab')"
   ]
  },
  {
   "cell_type": "code",
   "execution_count": 64,
   "metadata": {},
   "outputs": [
    {
     "data": {
      "image/png": "[encoded data removed]",
      "text/plain": [
       "<Figure size 864x648 with 1 Axes>"
      ]
     },
     "metadata": {},
     "output_type": "display_data"
    }
   ],
   "source": [
    "number_of_rides_plotter(data, 2017, 'Yellow Cab', 'Pink Cab')"
   ]
  },
  {
   "cell_type": "code",
   "execution_count": 65,
   "metadata": {},
   "outputs": [
    {
     "data": {
      "image/png": "[encoded data removed]",
      "text/plain": [
       "<Figure size 864x648 with 1 Axes>"
      ]
     },
     "metadata": {},
     "output_type": "display_data"
    }
   ],
   "source": [
    "number_of_rides_plotter(data, 2018, 'Yellow Cab', 'Pink Cab')"
   ]
  },
  {
   "cell_type": "code",
   "execution_count": null,
   "metadata": {},
   "outputs": [],
   "source": []
  }
 ],
 "metadata": {
  "kernelspec": {
   "display_name": "Python 3",
   "language": "python",
   "name": "python3"
  },
  "language_info": {
   "codemirror_mode": {
    "name": "ipython",
    "version": 3
   },
   "file_extension": ".py",
   "mimetype": "text/x-python",
   "name": "python",
   "nbconvert_exporter": "python",
   "pygments_lexer": "ipython3",
   "version": "3.8.5"
  }
 },
 "nbformat": 4,
 "nbformat_minor": 4
}
